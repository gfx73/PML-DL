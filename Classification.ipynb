{
 "cells": [
  {
   "cell_type": "markdown",
   "metadata": {
    "id": "view-in-github",
    "colab_type": "text"
   },
   "source": [
    "<a href=\"https://colab.research.google.com/github/gfx73/PML-DL/blob/main/Classification.ipynb\" target=\"_parent\"><img src=\"https://colab.research.google.com/assets/colab-badge.svg\" alt=\"Open In Colab\"/></a>"
   ]
  },
  {
   "cell_type": "code",
   "execution_count": 9,
   "metadata": {
    "colab": {
     "base_uri": "https://localhost:8080/",
     "height": 1000
    },
    "id": "AD-HO1iDuN8y",
    "outputId": "e94e330c-341c-4205-f1a4-96e7392a2f42"
   },
   "outputs": [
    {
     "name": "stdout",
     "output_type": "stream",
     "text": [
      "Requirement already satisfied: allennlp in e:\\programs\\anaconda\\envs\\pmldl\\lib\\site-packages (2.10.1)\n",
      "Requirement already satisfied: tensorboardX>=1.2 in e:\\programs\\anaconda\\envs\\pmldl\\lib\\site-packages (from allennlp) (2.5.1)\n",
      "Requirement already satisfied: more-itertools>=8.12.0 in e:\\programs\\anaconda\\envs\\pmldl\\lib\\site-packages (from allennlp) (9.0.0)\n",
      "Requirement already satisfied: wandb<0.13.0,>=0.10.0 in e:\\programs\\anaconda\\envs\\pmldl\\lib\\site-packages (from allennlp) (0.12.21)\n",
      "Requirement already satisfied: scipy>=1.7.3 in e:\\programs\\anaconda\\envs\\pmldl\\lib\\site-packages (from allennlp) (1.9.3)\n",
      "Requirement already satisfied: transformers<4.21,>=4.1 in e:\\programs\\anaconda\\envs\\pmldl\\lib\\site-packages (from allennlp) (4.20.1)\n",
      "Requirement already satisfied: typer>=0.4.1 in e:\\programs\\anaconda\\envs\\pmldl\\lib\\site-packages (from allennlp) (0.4.2)\n",
      "Requirement already satisfied: cached-path<1.2.0,>=1.1.3 in e:\\programs\\anaconda\\envs\\pmldl\\lib\\site-packages (from allennlp) (1.1.6)\n",
      "Requirement already satisfied: huggingface-hub>=0.0.16 in e:\\programs\\anaconda\\envs\\pmldl\\lib\\site-packages (from allennlp) (0.10.1)\n",
      "Requirement already satisfied: tqdm>=4.62 in e:\\programs\\anaconda\\envs\\pmldl\\lib\\site-packages (from allennlp) (4.64.1)\n",
      "Requirement already satisfied: requests>=2.28 in e:\\programs\\anaconda\\envs\\pmldl\\lib\\site-packages (from allennlp) (2.28.1)\n",
      "Requirement already satisfied: sentencepiece>=0.1.96 in e:\\programs\\anaconda\\envs\\pmldl\\lib\\site-packages (from allennlp) (0.1.97)\n",
      "Requirement already satisfied: nltk>=3.6.5 in e:\\programs\\anaconda\\envs\\pmldl\\lib\\site-packages (from allennlp) (3.7)\n",
      "Requirement already satisfied: sacremoses in e:\\programs\\anaconda\\envs\\pmldl\\lib\\site-packages (from allennlp) (0.0.53)\n",
      "Requirement already satisfied: torch<1.13.0,>=1.10.0 in e:\\programs\\anaconda\\envs\\pmldl\\lib\\site-packages (from allennlp) (1.12.1+cu113)\n",
      "Requirement already satisfied: fairscale==0.4.6 in e:\\programs\\anaconda\\envs\\pmldl\\lib\\site-packages (from allennlp) (0.4.6)\n",
      "Requirement already satisfied: protobuf<4.0.0,>=3.12.0 in e:\\programs\\anaconda\\envs\\pmldl\\lib\\site-packages (from allennlp) (3.19.6)\n",
      "Requirement already satisfied: lmdb>=1.2.1 in e:\\programs\\anaconda\\envs\\pmldl\\lib\\site-packages (from allennlp) (1.3.0)\n",
      "Requirement already satisfied: torchvision<0.14.0,>=0.8.1 in e:\\programs\\anaconda\\envs\\pmldl\\lib\\site-packages (from allennlp) (0.13.1+cu113)\n",
      "Requirement already satisfied: h5py>=3.6.0 in e:\\programs\\anaconda\\envs\\pmldl\\lib\\site-packages (from allennlp) (3.7.0)\n",
      "Requirement already satisfied: termcolor==1.1.0 in e:\\programs\\anaconda\\envs\\pmldl\\lib\\site-packages (from allennlp) (1.1.0)\n",
      "Requirement already satisfied: base58>=2.1.1 in e:\\programs\\anaconda\\envs\\pmldl\\lib\\site-packages (from allennlp) (2.1.1)\n",
      "Requirement already satisfied: filelock<3.8,>=3.3 in e:\\programs\\anaconda\\envs\\pmldl\\lib\\site-packages (from allennlp) (3.7.1)\n",
      "Requirement already satisfied: pytest>=6.2.5 in e:\\programs\\anaconda\\envs\\pmldl\\lib\\site-packages (from allennlp) (7.2.0)\n",
      "Requirement already satisfied: traitlets>5.1.1 in e:\\programs\\anaconda\\envs\\pmldl\\lib\\site-packages (from allennlp) (5.5.0)\n",
      "Requirement already satisfied: spacy<3.4,>=2.1.0 in e:\\programs\\anaconda\\envs\\pmldl\\lib\\site-packages (from allennlp) (3.3.1)\n",
      "Requirement already satisfied: numpy>=1.21.4 in e:\\programs\\anaconda\\envs\\pmldl\\lib\\site-packages (from allennlp) (1.23.4)\n",
      "Requirement already satisfied: dill>=0.3.4 in e:\\programs\\anaconda\\envs\\pmldl\\lib\\site-packages (from allennlp) (0.3.6)\n",
      "Requirement already satisfied: scikit-learn>=1.0.1 in e:\\programs\\anaconda\\envs\\pmldl\\lib\\site-packages (from allennlp) (1.1.3)\n",
      "Requirement already satisfied: boto3<2.0,>=1.0 in e:\\programs\\anaconda\\envs\\pmldl\\lib\\site-packages (from cached-path<1.2.0,>=1.1.3->allennlp) (1.25.4)\n",
      "Requirement already satisfied: rich<13.0,>=12.1 in e:\\programs\\anaconda\\envs\\pmldl\\lib\\site-packages (from cached-path<1.2.0,>=1.1.3->allennlp) (12.6.0)\n",
      "Requirement already satisfied: google-cloud-storage<3.0,>=1.32.0 in e:\\programs\\anaconda\\envs\\pmldl\\lib\\site-packages (from cached-path<1.2.0,>=1.1.3->allennlp) (2.5.0)\n",
      "Requirement already satisfied: pyyaml>=5.1 in e:\\programs\\anaconda\\envs\\pmldl\\lib\\site-packages (from huggingface-hub>=0.0.16->allennlp) (6.0)\n",
      "Requirement already satisfied: packaging>=20.9 in e:\\programs\\anaconda\\envs\\pmldl\\lib\\site-packages (from huggingface-hub>=0.0.16->allennlp) (21.3)\n",
      "Requirement already satisfied: typing-extensions>=3.7.4.3 in e:\\programs\\anaconda\\envs\\pmldl\\lib\\site-packages (from huggingface-hub>=0.0.16->allennlp) (4.3.0)\n",
      "Requirement already satisfied: joblib in e:\\programs\\anaconda\\envs\\pmldl\\lib\\site-packages (from nltk>=3.6.5->allennlp) (1.2.0)\n",
      "Requirement already satisfied: regex>=2021.8.3 in e:\\programs\\anaconda\\envs\\pmldl\\lib\\site-packages (from nltk>=3.6.5->allennlp) (2022.9.13)\n",
      "Requirement already satisfied: click in e:\\programs\\anaconda\\envs\\pmldl\\lib\\site-packages (from nltk>=3.6.5->allennlp) (8.1.3)\n",
      "Requirement already satisfied: exceptiongroup>=1.0.0rc8 in e:\\programs\\anaconda\\envs\\pmldl\\lib\\site-packages (from pytest>=6.2.5->allennlp) (1.0.0)\n",
      "Requirement already satisfied: tomli>=1.0.0 in e:\\programs\\anaconda\\envs\\pmldl\\lib\\site-packages (from pytest>=6.2.5->allennlp) (2.0.1)\n",
      "Requirement already satisfied: colorama in e:\\programs\\anaconda\\envs\\pmldl\\lib\\site-packages (from pytest>=6.2.5->allennlp) (0.4.5)\n",
      "Requirement already satisfied: iniconfig in e:\\programs\\anaconda\\envs\\pmldl\\lib\\site-packages (from pytest>=6.2.5->allennlp) (1.1.1)\n",
      "Requirement already satisfied: attrs>=19.2.0 in e:\\programs\\anaconda\\envs\\pmldl\\lib\\site-packages (from pytest>=6.2.5->allennlp) (21.4.0)\n",
      "Requirement already satisfied: pluggy<2.0,>=0.12 in e:\\programs\\anaconda\\envs\\pmldl\\lib\\site-packages (from pytest>=6.2.5->allennlp) (1.0.0)\n",
      "Requirement already satisfied: urllib3<1.27,>=1.21.1 in e:\\programs\\anaconda\\envs\\pmldl\\lib\\site-packages (from requests>=2.28->allennlp) (1.26.12)\n",
      "Requirement already satisfied: certifi>=2017.4.17 in e:\\programs\\anaconda\\envs\\pmldl\\lib\\site-packages (from requests>=2.28->allennlp) (2022.9.24)\n",
      "Requirement already satisfied: charset-normalizer<3,>=2 in e:\\programs\\anaconda\\envs\\pmldl\\lib\\site-packages (from requests>=2.28->allennlp) (2.0.4)\n",
      "Requirement already satisfied: idna<4,>=2.5 in e:\\programs\\anaconda\\envs\\pmldl\\lib\\site-packages (from requests>=2.28->allennlp) (3.4)\n",
      "Requirement already satisfied: threadpoolctl>=2.0.0 in e:\\programs\\anaconda\\envs\\pmldl\\lib\\site-packages (from scikit-learn>=1.0.1->allennlp) (3.1.0)\n",
      "Requirement already satisfied: thinc<8.1.0,>=8.0.14 in e:\\programs\\anaconda\\envs\\pmldl\\lib\\site-packages (from spacy<3.4,>=2.1.0->allennlp) (8.0.17)\n",
      "Requirement already satisfied: blis<0.8.0,>=0.4.0 in e:\\programs\\anaconda\\envs\\pmldl\\lib\\site-packages (from spacy<3.4,>=2.1.0->allennlp) (0.7.9)\n",
      "Requirement already satisfied: spacy-loggers<2.0.0,>=1.0.0 in e:\\programs\\anaconda\\envs\\pmldl\\lib\\site-packages (from spacy<3.4,>=2.1.0->allennlp) (1.0.3)\n",
      "Requirement already satisfied: cymem<2.1.0,>=2.0.2 in e:\\programs\\anaconda\\envs\\pmldl\\lib\\site-packages (from spacy<3.4,>=2.1.0->allennlp) (2.0.7)\n",
      "Requirement already satisfied: langcodes<4.0.0,>=3.2.0 in e:\\programs\\anaconda\\envs\\pmldl\\lib\\site-packages (from spacy<3.4,>=2.1.0->allennlp) (3.3.0)\n",
      "Requirement already satisfied: murmurhash<1.1.0,>=0.28.0 in e:\\programs\\anaconda\\envs\\pmldl\\lib\\site-packages (from spacy<3.4,>=2.1.0->allennlp) (1.0.9)\n",
      "Requirement already satisfied: preshed<3.1.0,>=3.0.2 in e:\\programs\\anaconda\\envs\\pmldl\\lib\\site-packages (from spacy<3.4,>=2.1.0->allennlp) (3.0.8)\n",
      "Requirement already satisfied: wasabi<1.1.0,>=0.9.1 in e:\\programs\\anaconda\\envs\\pmldl\\lib\\site-packages (from spacy<3.4,>=2.1.0->allennlp) (0.10.1)\n",
      "Requirement already satisfied: pathy>=0.3.5 in e:\\programs\\anaconda\\envs\\pmldl\\lib\\site-packages (from spacy<3.4,>=2.1.0->allennlp) (0.6.2)\n",
      "Requirement already satisfied: pydantic!=1.8,!=1.8.1,<1.9.0,>=1.7.4 in e:\\programs\\anaconda\\envs\\pmldl\\lib\\site-packages (from spacy<3.4,>=2.1.0->allennlp) (1.8.2)\n",
      "Requirement already satisfied: srsly<3.0.0,>=2.4.3 in e:\\programs\\anaconda\\envs\\pmldl\\lib\\site-packages (from spacy<3.4,>=2.1.0->allennlp) (2.4.5)\n",
      "Requirement already satisfied: jinja2 in e:\\programs\\anaconda\\envs\\pmldl\\lib\\site-packages (from spacy<3.4,>=2.1.0->allennlp) (3.1.2)\n",
      "Requirement already satisfied: setuptools in e:\\programs\\anaconda\\envs\\pmldl\\lib\\site-packages (from spacy<3.4,>=2.1.0->allennlp) (65.4.0)\n",
      "Requirement already satisfied: spacy-legacy<3.1.0,>=3.0.9 in e:\\programs\\anaconda\\envs\\pmldl\\lib\\site-packages (from spacy<3.4,>=2.1.0->allennlp) (3.0.10)\n",
      "Requirement already satisfied: catalogue<2.1.0,>=2.0.6 in e:\\programs\\anaconda\\envs\\pmldl\\lib\\site-packages (from spacy<3.4,>=2.1.0->allennlp) (2.0.8)\n",
      "Requirement already satisfied: pillow!=8.3.*,>=5.3.0 in e:\\programs\\anaconda\\envs\\pmldl\\lib\\site-packages (from torchvision<0.14.0,>=0.8.1->allennlp) (9.3.0)\n",
      "Requirement already satisfied: tokenizers!=0.11.3,<0.13,>=0.11.1 in e:\\programs\\anaconda\\envs\\pmldl\\lib\\site-packages (from transformers<4.21,>=4.1->allennlp) (0.12.1)\n",
      "Requirement already satisfied: psutil>=5.0.0 in e:\\programs\\anaconda\\envs\\pmldl\\lib\\site-packages (from wandb<0.13.0,>=0.10.0->allennlp) (5.9.0)\n",
      "Requirement already satisfied: setproctitle in e:\\programs\\anaconda\\envs\\pmldl\\lib\\site-packages (from wandb<0.13.0,>=0.10.0->allennlp) (1.3.2)\n",
      "Requirement already satisfied: sentry-sdk>=1.0.0 in e:\\programs\\anaconda\\envs\\pmldl\\lib\\site-packages (from wandb<0.13.0,>=0.10.0->allennlp) (1.10.1)\n",
      "Requirement already satisfied: docker-pycreds>=0.4.0 in e:\\programs\\anaconda\\envs\\pmldl\\lib\\site-packages (from wandb<0.13.0,>=0.10.0->allennlp) (0.4.0)\n",
      "Requirement already satisfied: six>=1.13.0 in e:\\programs\\anaconda\\envs\\pmldl\\lib\\site-packages (from wandb<0.13.0,>=0.10.0->allennlp) (1.16.0)\n",
      "Requirement already satisfied: pathtools in e:\\programs\\anaconda\\envs\\pmldl\\lib\\site-packages (from wandb<0.13.0,>=0.10.0->allennlp) (0.1.2)\n",
      "Requirement already satisfied: promise<3,>=2.0 in e:\\programs\\anaconda\\envs\\pmldl\\lib\\site-packages (from wandb<0.13.0,>=0.10.0->allennlp) (2.3)\n",
      "Requirement already satisfied: shortuuid>=0.5.0 in e:\\programs\\anaconda\\envs\\pmldl\\lib\\site-packages (from wandb<0.13.0,>=0.10.0->allennlp) (1.0.9)\n",
      "Requirement already satisfied: GitPython>=1.0.0 in e:\\programs\\anaconda\\envs\\pmldl\\lib\\site-packages (from wandb<0.13.0,>=0.10.0->allennlp) (3.1.29)\n",
      "Requirement already satisfied: s3transfer<0.7.0,>=0.6.0 in e:\\programs\\anaconda\\envs\\pmldl\\lib\\site-packages (from boto3<2.0,>=1.0->cached-path<1.2.0,>=1.1.3->allennlp) (0.6.0)\n",
      "Requirement already satisfied: botocore<1.29.0,>=1.28.4 in e:\\programs\\anaconda\\envs\\pmldl\\lib\\site-packages (from boto3<2.0,>=1.0->cached-path<1.2.0,>=1.1.3->allennlp) (1.28.4)\n",
      "Requirement already satisfied: jmespath<2.0.0,>=0.7.1 in e:\\programs\\anaconda\\envs\\pmldl\\lib\\site-packages (from boto3<2.0,>=1.0->cached-path<1.2.0,>=1.1.3->allennlp) (1.0.1)\n",
      "Requirement already satisfied: gitdb<5,>=4.0.1 in e:\\programs\\anaconda\\envs\\pmldl\\lib\\site-packages (from GitPython>=1.0.0->wandb<0.13.0,>=0.10.0->allennlp) (4.0.9)\n",
      "Requirement already satisfied: google-api-core!=2.0.*,!=2.1.*,!=2.2.*,!=2.3.0,<3.0.0dev,>=1.31.5 in e:\\programs\\anaconda\\envs\\pmldl\\lib\\site-packages (from google-cloud-storage<3.0,>=1.32.0->cached-path<1.2.0,>=1.1.3->allennlp) (2.10.2)\n",
      "Requirement already satisfied: google-auth<3.0dev,>=1.25.0 in e:\\programs\\anaconda\\envs\\pmldl\\lib\\site-packages (from google-cloud-storage<3.0,>=1.32.0->cached-path<1.2.0,>=1.1.3->allennlp) (2.13.0)\n",
      "Requirement already satisfied: google-cloud-core<3.0dev,>=2.3.0 in e:\\programs\\anaconda\\envs\\pmldl\\lib\\site-packages (from google-cloud-storage<3.0,>=1.32.0->cached-path<1.2.0,>=1.1.3->allennlp) (2.3.2)\n",
      "Requirement already satisfied: google-resumable-media>=2.3.2 in e:\\programs\\anaconda\\envs\\pmldl\\lib\\site-packages (from google-cloud-storage<3.0,>=1.32.0->cached-path<1.2.0,>=1.1.3->allennlp) (2.4.0)\n",
      "Requirement already satisfied: pyparsing!=3.0.5,>=2.0.2 in e:\\programs\\anaconda\\envs\\pmldl\\lib\\site-packages (from packaging>=20.9->huggingface-hub>=0.0.16->allennlp) (3.0.9)\n",
      "Requirement already satisfied: smart-open<6.0.0,>=5.2.1 in e:\\programs\\anaconda\\envs\\pmldl\\lib\\site-packages (from pathy>=0.3.5->spacy<3.4,>=2.1.0->allennlp) (5.2.1)\n",
      "Requirement already satisfied: commonmark<0.10.0,>=0.9.0 in e:\\programs\\anaconda\\envs\\pmldl\\lib\\site-packages (from rich<13.0,>=12.1->cached-path<1.2.0,>=1.1.3->allennlp) (0.9.1)\n",
      "Requirement already satisfied: pygments<3.0.0,>=2.6.0 in e:\\programs\\anaconda\\envs\\pmldl\\lib\\site-packages (from rich<13.0,>=12.1->cached-path<1.2.0,>=1.1.3->allennlp) (2.11.2)\n",
      "Requirement already satisfied: MarkupSafe>=2.0 in e:\\programs\\anaconda\\envs\\pmldl\\lib\\site-packages (from jinja2->spacy<3.4,>=2.1.0->allennlp) (2.1.1)\n",
      "Requirement already satisfied: python-dateutil<3.0.0,>=2.1 in e:\\programs\\anaconda\\envs\\pmldl\\lib\\site-packages (from botocore<1.29.0,>=1.28.4->boto3<2.0,>=1.0->cached-path<1.2.0,>=1.1.3->allennlp) (2.8.2)\n",
      "Requirement already satisfied: smmap<6,>=3.0.1 in e:\\programs\\anaconda\\envs\\pmldl\\lib\\site-packages (from gitdb<5,>=4.0.1->GitPython>=1.0.0->wandb<0.13.0,>=0.10.0->allennlp) (5.0.0)\n",
      "Requirement already satisfied: googleapis-common-protos<2.0dev,>=1.56.2 in e:\\programs\\anaconda\\envs\\pmldl\\lib\\site-packages (from google-api-core!=2.0.*,!=2.1.*,!=2.2.*,!=2.3.0,<3.0.0dev,>=1.31.5->google-cloud-storage<3.0,>=1.32.0->cached-path<1.2.0,>=1.1.3->allennlp) (1.56.4)\n",
      "Requirement already satisfied: pyasn1-modules>=0.2.1 in e:\\programs\\anaconda\\envs\\pmldl\\lib\\site-packages (from google-auth<3.0dev,>=1.25.0->google-cloud-storage<3.0,>=1.32.0->cached-path<1.2.0,>=1.1.3->allennlp) (0.2.8)\n",
      "Requirement already satisfied: rsa<5,>=3.1.4 in e:\\programs\\anaconda\\envs\\pmldl\\lib\\site-packages (from google-auth<3.0dev,>=1.25.0->google-cloud-storage<3.0,>=1.32.0->cached-path<1.2.0,>=1.1.3->allennlp) (4.9)\n",
      "Requirement already satisfied: cachetools<6.0,>=2.0.0 in e:\\programs\\anaconda\\envs\\pmldl\\lib\\site-packages (from google-auth<3.0dev,>=1.25.0->google-cloud-storage<3.0,>=1.32.0->cached-path<1.2.0,>=1.1.3->allennlp) (5.2.0)\n",
      "Requirement already satisfied: google-crc32c<2.0dev,>=1.0 in e:\\programs\\anaconda\\envs\\pmldl\\lib\\site-packages (from google-resumable-media>=2.3.2->google-cloud-storage<3.0,>=1.32.0->cached-path<1.2.0,>=1.1.3->allennlp) (1.5.0)\n",
      "Requirement already satisfied: pyasn1<0.5.0,>=0.4.6 in e:\\programs\\anaconda\\envs\\pmldl\\lib\\site-packages (from pyasn1-modules>=0.2.1->google-auth<3.0dev,>=1.25.0->google-cloud-storage<3.0,>=1.32.0->cached-path<1.2.0,>=1.1.3->allennlp) (0.4.8)\n",
      "Looking in indexes: https://pypi.org/simple, https://download.pytorch.org/whl/cu113\n",
      "Requirement already satisfied: torch==1.12.1+cu113 in e:\\programs\\anaconda\\envs\\pmldl\\lib\\site-packages (1.12.1+cu113)\n",
      "Requirement already satisfied: torchvision==0.13.1+cu113 in e:\\programs\\anaconda\\envs\\pmldl\\lib\\site-packages (0.13.1+cu113)\n",
      "Requirement already satisfied: torchaudio==0.12.1 in e:\\programs\\anaconda\\envs\\pmldl\\lib\\site-packages (0.12.1+cu113)\n",
      "Requirement already satisfied: torchdata==0.4.1 in e:\\programs\\anaconda\\envs\\pmldl\\lib\\site-packages (0.4.1)\n",
      "Requirement already satisfied: torchtext==0.13.1 in e:\\programs\\anaconda\\envs\\pmldl\\lib\\site-packages (0.13.1)\n",
      "Requirement already satisfied: typing-extensions in e:\\programs\\anaconda\\envs\\pmldl\\lib\\site-packages (from torch==1.12.1+cu113) (4.3.0)\n",
      "Requirement already satisfied: requests in e:\\programs\\anaconda\\envs\\pmldl\\lib\\site-packages (from torchvision==0.13.1+cu113) (2.28.1)\n",
      "Requirement already satisfied: numpy in e:\\programs\\anaconda\\envs\\pmldl\\lib\\site-packages (from torchvision==0.13.1+cu113) (1.23.4)\n",
      "Requirement already satisfied: pillow!=8.3.*,>=5.3.0 in e:\\programs\\anaconda\\envs\\pmldl\\lib\\site-packages (from torchvision==0.13.1+cu113) (9.3.0)\n",
      "Requirement already satisfied: portalocker>=2.0.0 in e:\\programs\\anaconda\\envs\\pmldl\\lib\\site-packages (from torchdata==0.4.1) (2.6.0)\n",
      "Requirement already satisfied: urllib3>=1.25 in e:\\programs\\anaconda\\envs\\pmldl\\lib\\site-packages (from torchdata==0.4.1) (1.26.12)\n",
      "Requirement already satisfied: tqdm in e:\\programs\\anaconda\\envs\\pmldl\\lib\\site-packages (from torchtext==0.13.1) (4.64.1)\n",
      "Requirement already satisfied: pywin32>=226 in e:\\programs\\anaconda\\envs\\pmldl\\lib\\site-packages (from portalocker>=2.0.0->torchdata==0.4.1) (302)\n",
      "Requirement already satisfied: idna<4,>=2.5 in e:\\programs\\anaconda\\envs\\pmldl\\lib\\site-packages (from requests->torchvision==0.13.1+cu113) (3.4)\n",
      "Requirement already satisfied: certifi>=2017.4.17 in e:\\programs\\anaconda\\envs\\pmldl\\lib\\site-packages (from requests->torchvision==0.13.1+cu113) (2022.9.24)\n",
      "Requirement already satisfied: charset-normalizer<3,>=2 in e:\\programs\\anaconda\\envs\\pmldl\\lib\\site-packages (from requests->torchvision==0.13.1+cu113) (2.0.4)\n",
      "Requirement already satisfied: colorama in e:\\programs\\anaconda\\envs\\pmldl\\lib\\site-packages (from tqdm->torchtext==0.13.1) (0.4.5)\n",
      "Requirement already satisfied: torchmetrics in e:\\programs\\anaconda\\envs\\pmldl\\lib\\site-packages (0.10.1)\n",
      "Requirement already satisfied: numpy>=1.17.2 in e:\\programs\\anaconda\\envs\\pmldl\\lib\\site-packages (from torchmetrics) (1.23.4)\n",
      "Requirement already satisfied: torch>=1.3.1 in e:\\programs\\anaconda\\envs\\pmldl\\lib\\site-packages (from torchmetrics) (1.12.1+cu113)\n",
      "Requirement already satisfied: packaging in e:\\programs\\anaconda\\envs\\pmldl\\lib\\site-packages (from torchmetrics) (21.3)\n",
      "Requirement already satisfied: typing-extensions in e:\\programs\\anaconda\\envs\\pmldl\\lib\\site-packages (from torch>=1.3.1->torchmetrics) (4.3.0)\n",
      "Requirement already satisfied: pyparsing!=3.0.5,>=2.0.2 in e:\\programs\\anaconda\\envs\\pmldl\\lib\\site-packages (from packaging->torchmetrics) (3.0.9)\n",
      "Collecting tensorboard\n",
      "  Downloading tensorboard-2.10.1-py3-none-any.whl (5.9 MB)\n",
      "     ---------------------------------------- 5.9/5.9 MB 508.5 kB/s eta 0:00:00\n",
      "Collecting markdown>=2.6.8\n",
      "  Using cached Markdown-3.4.1-py3-none-any.whl (93 kB)\n",
      "Collecting tensorboard-plugin-wit>=1.6.0\n",
      "  Using cached tensorboard_plugin_wit-1.8.1-py3-none-any.whl (781 kB)\n",
      "Requirement already satisfied: protobuf<3.20,>=3.9.2 in e:\\programs\\anaconda\\envs\\pmldl\\lib\\site-packages (from tensorboard) (3.19.6)\n",
      "Collecting absl-py>=0.4\n",
      "  Downloading absl_py-1.3.0-py3-none-any.whl (124 kB)\n",
      "     -------------------------------------- 124.6/124.6 kB 1.0 MB/s eta 0:00:00\n",
      "Collecting google-auth-oauthlib<0.5,>=0.4.1\n",
      "  Using cached google_auth_oauthlib-0.4.6-py2.py3-none-any.whl (18 kB)\n",
      "Requirement already satisfied: wheel>=0.26 in e:\\programs\\anaconda\\envs\\pmldl\\lib\\site-packages (from tensorboard) (0.37.1)\n",
      "Requirement already satisfied: requests<3,>=2.21.0 in e:\\programs\\anaconda\\envs\\pmldl\\lib\\site-packages (from tensorboard) (2.28.1)\n",
      "Collecting grpcio>=1.24.3\n",
      "  Downloading grpcio-1.50.0-cp310-cp310-win_amd64.whl (3.6 MB)\n",
      "     ---------------------------------------- 3.6/3.6 MB 522.0 kB/s eta 0:00:00\n",
      "Requirement already satisfied: google-auth<3,>=1.6.3 in e:\\programs\\anaconda\\envs\\pmldl\\lib\\site-packages (from tensorboard) (2.13.0)\n",
      "Collecting werkzeug>=1.0.1\n",
      "  Using cached Werkzeug-2.2.2-py3-none-any.whl (232 kB)\n",
      "Requirement already satisfied: setuptools>=41.0.0 in e:\\programs\\anaconda\\envs\\pmldl\\lib\\site-packages (from tensorboard) (65.4.0)\n",
      "Collecting tensorboard-data-server<0.7.0,>=0.6.0\n",
      "  Using cached tensorboard_data_server-0.6.1-py3-none-any.whl (2.4 kB)\n",
      "Requirement already satisfied: numpy>=1.12.0 in e:\\programs\\anaconda\\envs\\pmldl\\lib\\site-packages (from tensorboard) (1.23.4)\n",
      "Requirement already satisfied: cachetools<6.0,>=2.0.0 in e:\\programs\\anaconda\\envs\\pmldl\\lib\\site-packages (from google-auth<3,>=1.6.3->tensorboard) (5.2.0)\n",
      "Requirement already satisfied: pyasn1-modules>=0.2.1 in e:\\programs\\anaconda\\envs\\pmldl\\lib\\site-packages (from google-auth<3,>=1.6.3->tensorboard) (0.2.8)\n",
      "Requirement already satisfied: rsa<5,>=3.1.4 in e:\\programs\\anaconda\\envs\\pmldl\\lib\\site-packages (from google-auth<3,>=1.6.3->tensorboard) (4.9)\n",
      "Requirement already satisfied: six>=1.9.0 in e:\\programs\\anaconda\\envs\\pmldl\\lib\\site-packages (from google-auth<3,>=1.6.3->tensorboard) (1.16.0)\n",
      "Collecting requests-oauthlib>=0.7.0\n",
      "  Using cached requests_oauthlib-1.3.1-py2.py3-none-any.whl (23 kB)\n",
      "Requirement already satisfied: charset-normalizer<3,>=2 in e:\\programs\\anaconda\\envs\\pmldl\\lib\\site-packages (from requests<3,>=2.21.0->tensorboard) (2.0.4)\n",
      "Requirement already satisfied: idna<4,>=2.5 in e:\\programs\\anaconda\\envs\\pmldl\\lib\\site-packages (from requests<3,>=2.21.0->tensorboard) (3.4)\n",
      "Requirement already satisfied: certifi>=2017.4.17 in e:\\programs\\anaconda\\envs\\pmldl\\lib\\site-packages (from requests<3,>=2.21.0->tensorboard) (2022.9.24)\n",
      "Requirement already satisfied: urllib3<1.27,>=1.21.1 in e:\\programs\\anaconda\\envs\\pmldl\\lib\\site-packages (from requests<3,>=2.21.0->tensorboard) (1.26.12)\n",
      "Requirement already satisfied: MarkupSafe>=2.1.1 in e:\\programs\\anaconda\\envs\\pmldl\\lib\\site-packages (from werkzeug>=1.0.1->tensorboard) (2.1.1)\n",
      "Requirement already satisfied: pyasn1<0.5.0,>=0.4.6 in e:\\programs\\anaconda\\envs\\pmldl\\lib\\site-packages (from pyasn1-modules>=0.2.1->google-auth<3,>=1.6.3->tensorboard) (0.4.8)\n",
      "Collecting oauthlib>=3.0.0\n",
      "  Downloading oauthlib-3.2.2-py3-none-any.whl (151 kB)\n",
      "     -------------------------------------- 151.7/151.7 kB 3.0 MB/s eta 0:00:00\n",
      "Installing collected packages: tensorboard-plugin-wit, werkzeug, tensorboard-data-server, oauthlib, markdown, grpcio, absl-py, requests-oauthlib, google-auth-oauthlib, tensorboard\n",
      "Successfully installed absl-py-1.3.0 google-auth-oauthlib-0.4.6 grpcio-1.50.0 markdown-3.4.1 oauthlib-3.2.2 requests-oauthlib-1.3.1 tensorboard-2.10.1 tensorboard-data-server-0.6.1 tensorboard-plugin-wit-1.8.1 werkzeug-2.2.2\n"
     ]
    }
   ],
   "source": [
    "!pip install allennlp\n",
    "!pip install torch==1.12.1+cu113 torchvision==0.13.1+cu113 torchaudio==0.12.1 torchdata==0.4.1 torchtext==0.13.1 --extra-index-url https://download.pytorch.org/whl/cu113\n",
    "!pip install torchmetrics\n",
    "!pip install tensorboard"
   ]
  },
  {
   "cell_type": "code",
   "source": [
    "import sys\n",
    "from torchtext.datasets import IMDB\n",
    "from tqdm import tqdm\n",
    "from torchtext.data.utils import get_tokenizer\n",
    "import gc\n",
    "import random\n",
    "from torch.utils.data import Dataset, DataLoader, Subset\n",
    "from allennlp.modules.elmo import Elmo, batch_to_ids\n",
    "import torch\n",
    "from torch import nn\n",
    "from torch.nn import functional as F\n",
    "import torchmetrics\n",
    "from torch.utils.tensorboard import SummaryWriter"
   ],
   "metadata": {
    "id": "CWi7YrydIhrm"
   },
   "execution_count": 10,
   "outputs": []
  },
  {
   "cell_type": "code",
   "execution_count": 3,
   "outputs": [],
   "source": [
    "CLASSIFIER_PRETRAINED = False\n",
    "\n",
    "IN_COLAB = 'google.colab' in sys.modules\n",
    "if IN_COLAB:\n",
    "  PATH_TO_SAVE_ELMO_CLASSIFIER = '/content/drive/MyDrive/PML&DL/Assignment2/elmo_classifier.pt'\n",
    "else:\n",
    "  PATH_TO_SAVE_ELMO_CLASSIFIER = 'elmo_classifier.pt'"
   ],
   "metadata": {
    "id": "1lUn0gjBYdXG"
   }
  },
  {
   "cell_type": "code",
   "source": [
    "if IN_COLAB:\n",
    "  from google.colab import drive\n",
    "  drive.mount('/content/drive')"
   ],
   "metadata": {
    "id": "JXDZ44Uvc_P3",
    "outputId": "8a0d7cd5-d426-4fc0-b4d0-778d164188af",
    "colab": {
     "base_uri": "https://localhost:8080/"
    }
   },
   "execution_count": 4,
   "outputs": []
  },
  {
   "cell_type": "code",
   "execution_count": 5,
   "metadata": {
    "id": "ADLyYv5gTXie"
   },
   "outputs": [],
   "source": [
    "IMDB_train_iter, IMDB_test_iter = IMDB()"
   ]
  },
  {
   "cell_type": "code",
   "execution_count": 6,
   "metadata": {
    "id": "MacnAo18Tci1",
    "outputId": "3dd00e98-8ac1-4b08-efff-6d69ea4f4520",
    "colab": {
     "base_uri": "https://localhost:8080/"
    }
   },
   "outputs": [
    {
     "name": "stderr",
     "output_type": "stream",
     "text": [
      "25000it [00:00, 34903.67it/s]\n",
      "25000it [00:00, 36509.80it/s]\n"
     ]
    },
    {
     "data": {
      "text/plain": "0"
     },
     "execution_count": 6,
     "metadata": {},
     "output_type": "execute_result"
    }
   ],
   "source": [
    "random.seed(11)\n",
    "tokenizer = get_tokenizer('basic_english')\n",
    "\n",
    "def get_texts_and_labels(datasplit):\n",
    "  texts, labels = [], []\n",
    "  for label, text in tqdm(datasplit):\n",
    "    texts.append(text)\n",
    "    labels.append(label=='pos')\n",
    "  return texts, labels\n",
    "\n",
    "train_texts, train_labels = get_texts_and_labels(IMDB_train_iter)\n",
    "test_texts, test_labels = get_texts_and_labels(IMDB_test_iter)\n",
    "\n",
    "sample_texts_and_labels = lambda tokens, labels: zip(*random.sample(list(zip(tokens, labels)), len(labels)))\n",
    "\n",
    "train_texts, train_labels = sample_texts_and_labels(train_texts, train_labels)\n",
    "test_texts, test_labels = sample_texts_and_labels(test_texts, test_labels)\n",
    "\n",
    "\n",
    "del IMDB_train_iter\n",
    "del IMDB_test_iter\n",
    "gc.collect()"
   ]
  },
  {
   "cell_type": "code",
   "execution_count": null,
   "outputs": [],
   "source": [
    "device = \"cuda\" if torch.cuda.is_available() else \"cpu\"\n",
    "\n",
    "class TokensAndLabels(Dataset):\n",
    "  def __init__(self, tokens, labels, tokenizer):\n",
    "    self.tokens = tokens\n",
    "    self.labels = torch.tensor(labels, dtype=torch.float32)\n",
    "    self.tokenizer = tokenizer\n",
    "    self.length = self.labels.shape[0]\n",
    "\n",
    "  def __getitem__(self, idx):\n",
    "    return self.tokenizer(self.tokens[idx]), self.labels[idx]\n",
    "\n",
    "  def __len__(self):\n",
    "    return self.length\n",
    "\n",
    "\n",
    "trainset = TokensAndLabels(train_texts, train_labels, tokenizer)\n",
    "testset = TokensAndLabels(test_texts, test_labels, tokenizer)\n",
    "\n",
    "valset_size = int(len(testset) * 0.02)\n",
    "testset_size = len(testset) - valset_size\n",
    "valset = Subset(testset, range(valset_size))\n",
    "testset = Subset(testset, range(valset_size, valset_size + testset_size))\n",
    "\n",
    "class CollateBatch(object):\n",
    "  def __init__(self, batch_to_ids):\n",
    "    self.batch_to_ids = batch_to_ids\n",
    "\n",
    "  def __call__(self, batch):\n",
    "    tokens_batch, labels_batch = [tokens_and_label[0] for tokens_and_label in batch], [tokens_and_label[1] for tokens_and_label in batch]\n",
    "    tok_ids = self.batch_to_ids(tokens_batch).to(device)\n",
    "    labels_batch = torch.tensor(labels_batch, dtype=torch.float32, device=device)\n",
    "    return tok_ids, labels_batch\n",
    "\n",
    "collateBatch = CollateBatch(batch_to_ids)\n",
    "\n",
    "BATCH_SIZE = 32\n",
    "trainloader = DataLoader(trainset, batch_size=BATCH_SIZE, shuffle=False, collate_fn=collateBatch)\n",
    "valloader = DataLoader(valset, batch_size=BATCH_SIZE, shuffle=False, collate_fn=collateBatch)\n",
    "testloader = DataLoader(testset, batch_size=BATCH_SIZE, shuffle=False, collate_fn=collateBatch)"
   ],
   "metadata": {
    "id": "xT-BD8AIYdXK"
   }
  },
  {
   "cell_type": "code",
   "execution_count": null,
   "metadata": {
    "id": "UECEqirPD3_2",
    "outputId": "46cd8494-a8e8-4711-dd56-57740f110f1a",
    "colab": {
     "base_uri": "https://localhost:8080/",
     "height": 49,
     "referenced_widgets": [
      "0821c46acae84ba3a60eaae2bd8786eb",
      "98de5dcc58d94bc09cf7befbaf581737",
      "fcf0231c34fa46e39c5bb5937321c642",
      "ebf50a85531a436bb3333b3d1ac6baea"
     ]
    }
   },
   "outputs": [
    {
     "output_type": "display_data",
     "data": {
      "text/plain": [
       "Output()"
      ],
      "application/vnd.jupyter.widget-view+json": {
       "version_major": 2,
       "version_minor": 0,
       "model_id": "0821c46acae84ba3a60eaae2bd8786eb"
      }
     },
     "metadata": {}
    },
    {
     "output_type": "display_data",
     "data": {
      "text/plain": [],
      "text/html": [
       "<pre style=\"white-space:pre;overflow-x:auto;line-height:normal;font-family:Menlo,'DejaVu Sans Mono',consolas,'Courier New',monospace\"></pre>\n"
      ]
     },
     "metadata": {}
    },
    {
     "output_type": "display_data",
     "data": {
      "text/plain": [
       "\n"
      ],
      "text/html": [
       "<pre style=\"white-space:pre;overflow-x:auto;line-height:normal;font-family:Menlo,'DejaVu Sans Mono',consolas,'Courier New',monospace\">\n",
       "</pre>\n"
      ]
     },
     "metadata": {}
    },
    {
     "output_type": "display_data",
     "data": {
      "text/plain": [
       "Output()"
      ],
      "application/vnd.jupyter.widget-view+json": {
       "version_major": 2,
       "version_minor": 0,
       "model_id": "fcf0231c34fa46e39c5bb5937321c642"
      }
     },
     "metadata": {}
    },
    {
     "output_type": "display_data",
     "data": {
      "text/plain": [],
      "text/html": [
       "<pre style=\"white-space:pre;overflow-x:auto;line-height:normal;font-family:Menlo,'DejaVu Sans Mono',consolas,'Courier New',monospace\"></pre>\n"
      ]
     },
     "metadata": {}
    },
    {
     "output_type": "display_data",
     "data": {
      "text/plain": [
       "\n"
      ],
      "text/html": [
       "<pre style=\"white-space:pre;overflow-x:auto;line-height:normal;font-family:Menlo,'DejaVu Sans Mono',consolas,'Courier New',monospace\">\n",
       "</pre>\n"
      ]
     },
     "metadata": {}
    }
   ],
   "source": [
    "class Classifier(nn.Module):\n",
    "  def __init__(self, embed_size, elmo):\n",
    "    super(Classifier, self).__init__()\n",
    "    self.embed_size = embed_size\n",
    "    self.elmo = elmo\n",
    "    self.fc1 = nn.Linear(embed_size, 1)\n",
    "    \n",
    "  def forward(self, input):\n",
    "    embs = self.elmo(input)['elmo_representations'][0]\n",
    "    mean = embs.mean(dim=1)\n",
    "    x = torch.sigmoid(self.fc1(mean))\n",
    "    return x\n",
    "\n",
    "\n",
    "if CLASSIFIER_PRETRAINED:\n",
    "  classifier = torch.load(PATH_TO_SAVE_ELMO_CLASSIFIER)\n",
    "else:\n",
    "  if IN_COLAB:\n",
    "    options_file = \"https://s3-us-west-2.amazonaws.com/allennlp/models/elmo/2x4096_512_2048cnn_2xhighway/elmo_2x4096_512_2048cnn_2xhighway_options.json\"\n",
    "    weight_file = \"https://s3-us-west-2.amazonaws.com/allennlp/models/elmo/2x4096_512_2048cnn_2xhighway/elmo_2x4096_512_2048cnn_2xhighway_weights.hdf5\"\n",
    "  else:\n",
    "    options_file = \"options.json\"\n",
    "    weight_file = \"weights.hdf5\"\n",
    "  elmo = Elmo(options_file, weight_file, dropout=0, requires_grad=False, num_output_representations=1).to(device)\n",
    "  classifier = Classifier(1024, elmo=elmo).to(device)"
   ]
  },
  {
   "cell_type": "code",
   "execution_count": null,
   "outputs": [
    {
     "output_type": "execute_result",
     "data": {
      "text/plain": [
       "4"
      ]
     },
     "metadata": {},
     "execution_count": 9
    }
   ],
   "source": [
    "sum(p.numel() for p in classifier.elmo.parameters() if p.requires_grad)"
   ],
   "metadata": {
    "id": "kp9_BR9fYdXN",
    "outputId": "b142f688-a696-4aea-f9bb-a9f847b069db",
    "colab": {
     "base_uri": "https://localhost:8080/"
    }
   }
  },
  {
   "cell_type": "code",
   "execution_count": null,
   "outputs": [],
   "source": [
    "learning_rate = 0.003\n",
    "epochs = 1\n",
    "# l2_penalty = 0.001\n",
    "l2_penalty = 0\n",
    "\n",
    "optimizer = torch.optim.RMSprop(classifier.parameters(), lr=learning_rate, weight_decay=l2_penalty)\n",
    "loss_fn = F.binary_cross_entropy_with_logits"
   ],
   "metadata": {
    "id": "EHA4Iw4eYdXO"
   }
  },
  {
   "cell_type": "code",
   "execution_count": 7,
   "outputs": [],
   "source": [
    "def eval_model(model, data, loss_fn):\n",
    "  acc_metric = torchmetrics.Accuracy().to(device)\n",
    "  prec_metric = torchmetrics.Precision().to(device)\n",
    "  rec_metric = torchmetrics.Recall().to(device)\n",
    "  f1_metric = torchmetrics.F1Score().to(device)\n",
    "  running_loss = 0\n",
    "  for x, y in tqdm(data):\n",
    "    with torch.no_grad():\n",
    "      y = y.reshape(-1, 1)\n",
    "      with torch.autocast(device_type=device, dtype=torch.float16):\n",
    "        preds = model(x)\n",
    "        loss = loss_fn(preds, y)\n",
    "\n",
    "\n",
    "      running_loss += loss.item()\n",
    "      \n",
    "      y = y.type(torch.int8)\n",
    "      acc_metric(preds.round(), y)\n",
    "      prec_metric(preds.round(), y)\n",
    "      rec_metric(preds.round(), y)\n",
    "      f1_metric(preds.round(), y)\n",
    "\n",
    "      # print(y)\n",
    "      # print(preds.round())\n",
    "      # print(acc_metric.compute())\n",
    "\n",
    "  loss = running_loss / len(data)\n",
    "  acc = acc_metric.compute().item()\n",
    "  prec = prec_metric.compute().item()\n",
    "  rec = rec_metric.compute().item()\n",
    "  f1 = f1_metric.compute().item()\n",
    "  return loss, acc, prec, rec, f1"
   ],
   "metadata": {
    "id": "1w1z74paYdXP"
   }
  },
  {
   "cell_type": "code",
   "execution_count": null,
   "metadata": {
    "colab": {
     "base_uri": "https://localhost:8080/"
    },
    "id": "uLvBW73M21-c",
    "outputId": "0ae94180-7103-4bce-a7a6-3ead2d623ffe",
    "pycharm": {
     "is_executing": true
    }
   },
   "outputs": [
    {
     "output_type": "stream",
     "name": "stderr",
     "text": [
      "  0%|          | 1/782 [00:07<1:32:22,  7.10s/it]"
     ]
    },
    {
     "output_type": "stream",
     "name": "stdout",
     "text": [
      "epoch: 0\titeration: 0\tloss: 0.6283023357391357\tthis iteration loss: 0.6283023357391357\taccuracy: 0.78125\n"
     ]
    },
    {
     "output_type": "stream",
     "name": "stderr",
     "text": [
      "  7%|▋         | 51/782 [02:48<34:46,  2.85s/it]"
     ]
    },
    {
     "output_type": "stream",
     "name": "stdout",
     "text": [
      "epoch: 0\titeration: 50\tloss: 0.6828417275466171\tthis iteration loss: 0.6961194276809692\taccuracy: 0.5490196078431373\n"
     ]
    },
    {
     "output_type": "stream",
     "name": "stderr",
     "text": [
      " 13%|█▎        | 101/782 [05:36<38:19,  3.38s/it]"
     ]
    },
    {
     "output_type": "stream",
     "name": "stdout",
     "text": [
      "epoch: 0\titeration: 100\tloss: 0.673536499538044\tthis iteration loss: 0.6901473999023438\taccuracy: 0.5962252475247525\n"
     ]
    },
    {
     "output_type": "stream",
     "name": "stderr",
     "text": [
      " 19%|█▉        | 151/782 [08:32<42:03,  4.00s/it]"
     ]
    },
    {
     "output_type": "stream",
     "name": "stdout",
     "text": [
      "epoch: 0\titeration: 150\tloss: 0.662827395050731\tthis iteration loss: 0.5992738604545593\taccuracy: 0.6276903973509934\n"
     ]
    },
    {
     "output_type": "stream",
     "name": "stderr",
     "text": [
      " 26%|██▌       | 201/782 [11:18<34:09,  3.53s/it]"
     ]
    },
    {
     "output_type": "stream",
     "name": "stdout",
     "text": [
      "epoch: 0\titeration: 200\tloss: 0.6553210992718217\tthis iteration loss: 0.6513580083847046\taccuracy: 0.6449004975124378\n"
     ]
    },
    {
     "output_type": "stream",
     "name": "stderr",
     "text": [
      " 32%|███▏      | 251/782 [14:08<30:16,  3.42s/it]"
     ]
    },
    {
     "output_type": "stream",
     "name": "stdout",
     "text": [
      "epoch: 0\titeration: 250\tloss: 0.6500494074061572\tthis iteration loss: 0.6181433200836182\taccuracy: 0.6655876494023905\n"
     ]
    },
    {
     "output_type": "stream",
     "name": "stderr",
     "text": [
      " 38%|███▊      | 301/782 [17:00<30:57,  3.86s/it]"
     ]
    },
    {
     "output_type": "stream",
     "name": "stdout",
     "text": [
      "epoch: 0\titeration: 300\tloss: 0.6445627172919999\tthis iteration loss: 0.6432056427001953\taccuracy: 0.6795058139534884\n"
     ]
    },
    {
     "output_type": "stream",
     "name": "stderr",
     "text": [
      " 45%|████▍     | 351/782 [19:40<25:45,  3.59s/it]"
     ]
    },
    {
     "output_type": "stream",
     "name": "stdout",
     "text": [
      "epoch: 0\titeration: 350\tloss: 0.6408058236806821\tthis iteration loss: 0.5683448314666748\taccuracy: 0.6915064102564102\n"
     ]
    },
    {
     "output_type": "stream",
     "name": "stderr",
     "text": [
      " 51%|█████▏    | 401/782 [22:46<21:07,  3.33s/it]"
     ]
    },
    {
     "output_type": "stream",
     "name": "stdout",
     "text": [
      "epoch: 0\titeration: 400\tloss: 0.6372700468857687\tthis iteration loss: 0.6406313180923462\taccuracy: 0.6993453865336658\n"
     ]
    },
    {
     "output_type": "stream",
     "name": "stderr",
     "text": [
      " 58%|█████▊    | 451/782 [25:31<18:53,  3.42s/it]"
     ]
    },
    {
     "output_type": "stream",
     "name": "stdout",
     "text": [
      "epoch: 0\titeration: 450\tloss: 0.63376255627482\tthis iteration loss: 0.6117323040962219\taccuracy: 0.7084950110864745\n"
     ]
    },
    {
     "output_type": "stream",
     "name": "stderr",
     "text": [
      " 64%|██████▍   | 501/782 [28:19<19:13,  4.11s/it]"
     ]
    },
    {
     "output_type": "stream",
     "name": "stdout",
     "text": [
      "epoch: 0\titeration: 500\tloss: 0.6316656812936247\tthis iteration loss: 0.6761535406112671\taccuracy: 0.7153817365269461\n"
     ]
    },
    {
     "output_type": "stream",
     "name": "stderr",
     "text": [
      " 70%|███████   | 551/782 [31:22<12:21,  3.21s/it]"
     ]
    },
    {
     "output_type": "stream",
     "name": "stdout",
     "text": [
      "epoch: 0\titeration: 550\tloss: 0.6297325337214392\tthis iteration loss: 0.5612467527389526\taccuracy: 0.7206783121597096\n"
     ]
    },
    {
     "output_type": "stream",
     "name": "stderr",
     "text": [
      " 77%|███████▋  | 601/782 [34:07<08:21,  2.77s/it]"
     ]
    },
    {
     "output_type": "stream",
     "name": "stdout",
     "text": [
      "epoch: 0\titeration: 600\tloss: 0.6277472713029325\tthis iteration loss: 0.6071460843086243\taccuracy: 0.7255615640599001\n"
     ]
    },
    {
     "output_type": "stream",
     "name": "stderr",
     "text": [
      " 83%|████████▎ | 651/782 [37:07<07:25,  3.40s/it]"
     ]
    },
    {
     "output_type": "stream",
     "name": "stdout",
     "text": [
      "epoch: 0\titeration: 650\tloss: 0.6259071945960987\tthis iteration loss: 0.6241366267204285\taccuracy: 0.7307027649769585\n"
     ]
    },
    {
     "output_type": "stream",
     "name": "stderr",
     "text": [
      " 90%|████████▉ | 701/782 [39:57<04:08,  3.07s/it]"
     ]
    },
    {
     "output_type": "stream",
     "name": "stdout",
     "text": [
      "epoch: 0\titeration: 700\tloss: 0.623754105537322\tthis iteration loss: 0.6158937215805054\taccuracy: 0.734218972895863\n"
     ]
    },
    {
     "output_type": "stream",
     "name": "stderr",
     "text": [
      " 96%|█████████▌| 751/782 [43:02<01:49,  3.54s/it]"
     ]
    },
    {
     "output_type": "stream",
     "name": "stdout",
     "text": [
      "epoch: 0\titeration: 750\tloss: 0.6216627938372794\tthis iteration loss: 0.5869169235229492\taccuracy: 0.7382656458055925\n"
     ]
    },
    {
     "output_type": "stream",
     "name": "stderr",
     "text": [
      "100%|██████████| 782/782 [44:54<00:00,  3.45s/it]\n"
     ]
    },
    {
     "output_type": "stream",
     "name": "stdout",
     "text": [
      "epoch 0\ttrain loss : 0.6209402933831105\ttrain accuracy : 0.7414\n"
     ]
    },
    {
     "output_type": "stream",
     "name": "stderr",
     "text": [
      "100%|██████████| 16/16 [00:47<00:00,  2.98s/it]\n"
     ]
    },
    {
     "output_type": "stream",
     "name": "stdout",
     "text": [
      "epoch: 0\tval loss: 0.5759647786617279\tval acc: 0.7940000295639038\tval prec: 0.8930232524871826\tval rec: 0.7058823704719543\tval f1: 0.7885010838508606\n"
     ]
    }
   ],
   "source": [
    "torch.cuda.empty_cache()\n",
    "train_losses = []\n",
    "train_accs = []\n",
    "val_metrics = []\n",
    "writer = SummaryWriter()\n",
    "\n",
    "best_val_loss = 1e+8\n",
    "for epoch in range(epochs):\n",
    "  running_loss, correct, total = 0, 0, 0\n",
    "  for iteration, (x_train ,y_train) in tqdm(enumerate(trainloader), total=len(trainloader)):\n",
    "    optimizer.zero_grad()\n",
    "    y_train = y_train.reshape(-1,1)\n",
    "    with torch.autocast(device_type=device, dtype=torch.float16):\n",
    "      preds = classifier(x_train)\n",
    "      loss = loss_fn(preds, y_train)\n",
    "\n",
    "    running_loss += loss.item()\n",
    "    total += y_train.shape[0]\n",
    "    correct += preds.round().eq(y_train).sum().item()\n",
    "\n",
    "    loss.backward()\n",
    "    optimizer.step()\n",
    "\n",
    "    if iteration % 50 == 0:\n",
    "      _loss = running_loss / (iteration + 1)\n",
    "      acc = correct / total\n",
    "      print(\"epoch: {}\\titeration: {}\\tloss: {}\\tthis iteration loss: {}\\taccuracy: {}\".format(epoch, iteration, _loss, loss, acc))\n",
    "      writer.add_scalar(f\"ElmoClassifier/train/loss/epoch{epoch}/iteration{iteration}\", loss, iteration)\n",
    "      writer.add_scalar(f\"ElmoClassifier/train/acc/epoch{epoch}/iteration{iteration}\", acc, iteration)\n",
    "\n",
    "      loss, acc, prec, rec, f1 = eval_model(classifier, valloader, loss_fn)\n",
    "      writer.add_scalar(f\"ElmoClassifier/val/loss/epoch{epoch}/iteration{iteration}\", loss, iteration)\n",
    "      writer.add_scalar(f\"ElmoClassifier/val/acc/epoch{epoch}/iteration{iteration}\", acc, iteration)\n",
    "      writer.add_scalar(f\"ElmoClassifier/val/prec/epoch{epoch}/iteration{iteration}\", prec, iteration)\n",
    "      writer.add_scalar(f\"ElmoClassifier/val/rec/epoch{epoch}/iteration{iteration}\", rec, iteration)\n",
    "      writer.add_scalar(f\"ElmoClassifier/val/f1/epoch{epoch}/iteration{iteration}\", f1, iteration)\n",
    "\n",
    "\n",
    "  loss = running_loss / len(trainloader)\n",
    "  acc = correct / total\n",
    "  train_losses.append(loss)\n",
    "  train_accs.append(acc)\n",
    "  print(\"epoch {}\\ttrain loss : {}\\ttrain accuracy : {}\".format(epoch, loss, acc))\n",
    "\n",
    "  loss, acc, prec, rec, f1 = eval_model(classifier, valloader, loss_fn)\n",
    "  val_metrics.append([loss, acc, prec, rec, f1])\n",
    "  print(\"epoch: {}\\tval loss: {}\\tval acc: {}\\tval prec: {}\\tval rec: {}\\tval f1: {}\".format(epoch, loss, acc, prec, rec, f1))\n",
    "  if best_val_loss > loss:\n",
    "    torch.save(classifier, PATH_TO_SAVE_ELMO_CLASSIFIER)\n",
    "    best_val_loss = loss\n",
    "  if not IN_COLAB:\n",
    "    torch.save(classifier, f'classifier{epoch}.pt')"
   ]
  },
  {
   "cell_type": "code",
   "source": [
    "%load_ext tensorboard\n",
    "%tensorboard --logdir runs"
   ],
   "metadata": {
    "id": "xHizspdXT0W-"
   },
   "execution_count": null,
   "outputs": []
  },
  {
   "cell_type": "code",
   "source": [
    "!pip install transformers"
   ],
   "metadata": {
    "id": "NmR2LdnWWO0F",
    "outputId": "1bc28f12-405b-4fa6-f88f-8806fa73e7ec",
    "colab": {
     "base_uri": "https://localhost:8080/"
    }
   },
   "execution_count": 11,
   "outputs": [
    {
     "name": "stdout",
     "output_type": "stream",
     "text": [
      "Requirement already satisfied: transformers in e:\\programs\\anaconda\\envs\\pmldl\\lib\\site-packages (4.20.1)\n",
      "Requirement already satisfied: huggingface-hub<1.0,>=0.1.0 in e:\\programs\\anaconda\\envs\\pmldl\\lib\\site-packages (from transformers) (0.10.1)\n",
      "Requirement already satisfied: regex!=2019.12.17 in e:\\programs\\anaconda\\envs\\pmldl\\lib\\site-packages (from transformers) (2022.9.13)\n",
      "Requirement already satisfied: numpy>=1.17 in e:\\programs\\anaconda\\envs\\pmldl\\lib\\site-packages (from transformers) (1.23.4)\n",
      "Requirement already satisfied: requests in e:\\programs\\anaconda\\envs\\pmldl\\lib\\site-packages (from transformers) (2.28.1)\n",
      "Requirement already satisfied: pyyaml>=5.1 in e:\\programs\\anaconda\\envs\\pmldl\\lib\\site-packages (from transformers) (6.0)\n",
      "Requirement already satisfied: tokenizers!=0.11.3,<0.13,>=0.11.1 in e:\\programs\\anaconda\\envs\\pmldl\\lib\\site-packages (from transformers) (0.12.1)\n",
      "Requirement already satisfied: filelock in e:\\programs\\anaconda\\envs\\pmldl\\lib\\site-packages (from transformers) (3.7.1)\n",
      "Requirement already satisfied: packaging>=20.0 in e:\\programs\\anaconda\\envs\\pmldl\\lib\\site-packages (from transformers) (21.3)\n",
      "Requirement already satisfied: tqdm>=4.27 in e:\\programs\\anaconda\\envs\\pmldl\\lib\\site-packages (from transformers) (4.64.1)\n",
      "Requirement already satisfied: typing-extensions>=3.7.4.3 in e:\\programs\\anaconda\\envs\\pmldl\\lib\\site-packages (from huggingface-hub<1.0,>=0.1.0->transformers) (4.3.0)\n",
      "Requirement already satisfied: pyparsing!=3.0.5,>=2.0.2 in e:\\programs\\anaconda\\envs\\pmldl\\lib\\site-packages (from packaging>=20.0->transformers) (3.0.9)\n",
      "Requirement already satisfied: colorama in e:\\programs\\anaconda\\envs\\pmldl\\lib\\site-packages (from tqdm>=4.27->transformers) (0.4.5)\n",
      "Requirement already satisfied: certifi>=2017.4.17 in e:\\programs\\anaconda\\envs\\pmldl\\lib\\site-packages (from requests->transformers) (2022.9.24)\n",
      "Requirement already satisfied: urllib3<1.27,>=1.21.1 in e:\\programs\\anaconda\\envs\\pmldl\\lib\\site-packages (from requests->transformers) (1.26.12)\n",
      "Requirement already satisfied: charset-normalizer<3,>=2 in e:\\programs\\anaconda\\envs\\pmldl\\lib\\site-packages (from requests->transformers) (2.0.4)\n",
      "Requirement already satisfied: idna<4,>=2.5 in e:\\programs\\anaconda\\envs\\pmldl\\lib\\site-packages (from requests->transformers) (3.4)\n"
     ]
    }
   ]
  },
  {
   "cell_type": "code",
   "source": [
    "from transformers import AutoTokenizer, AutoModel\n",
    "\n",
    "tokenizer = AutoTokenizer.from_pretrained(\"bert-base-uncased\")\n",
    "model = AutoModel.from_pretrained(\"bert-base-uncased\")"
   ],
   "metadata": {
    "id": "3CaJkl0IT1Jq",
    "outputId": "c43f30dd-9499-49da-97f1-2140b363445e",
    "colab": {
     "base_uri": "https://localhost:8080/",
     "height": 249,
     "referenced_widgets": [
      "11d36431c27949c0bf4b3939e4691db7",
      "5d5b4fb21efa43a896b13ab2cf5a827d",
      "29f48cb4eeb04046910e099a2d9223c3",
      "b70ef816c78542b5b60e0614ce2ef055",
      "982783a704154e1ca1744377c813118d",
      "4d253b3d9761494e9a2202debd9fabfd",
      "b13a45a2d1ec472f9e8255909e8d35ae",
      "a1ce060880c74728864bb23c38c591a6",
      "d5308dc9a7d54dcf8d07171b185e2a55",
      "cef1527b0a35468e98ceab408462e748",
      "c95f2183c0314a9cb3505d170dfd0bb1",
      "29955f4de8d944709c07208e29fac160",
      "6e32b953ca62407bab6f249863e92572",
      "14be03ce11844a549b5096dbe756bed0",
      "a72a8eeffd0d48c884620473f5c25b7d",
      "b7fb0645d24f4454b691a47cfc81172f",
      "3f069e7b7f4643a39e45e83777f4d20c",
      "bab0a78455664b6ab8f2626f8262a0d1",
      "c032cd3aa70944d79ada4c282b0f109f",
      "5f96d3dcce624e71aecae508bda616b6",
      "5ddaf64a72224426a95c9607b5eae51a",
      "c1c4ad8da89e40e99b0bcb6985fcd236",
      "c67ebe51102c4bdebd8106efde94b282",
      "8185956c6dfa40e9a7ff7825a431a4bc",
      "baf181431e664b8c81864bece9b7bfc5",
      "6031b93d925f4f60b27e854d97392b01",
      "7f6cc566cd274c8d9938b2604428ace8",
      "12dc550540724fc8b134ae730452a5cc",
      "d2c3ba4600bb4ada8262a6a6d27b6562",
      "8796463ff78b4658ac65f8b4a38bb8b2",
      "f0f36214a9054950ab709ba3a9743f3a",
      "79bdf9861079498187b19c9878752123",
      "1de331a3535146e39ef7265aac9b9323",
      "16dd93419f0a420a9b4f11947b72f548",
      "5b178a0527de4ac9a494674aea5d79be",
      "37f505314c4d4b8b84e0d6fed4fa6ee5",
      "672ea5d09320460ba799c56e4f563a2a",
      "548b4b906d784b49a703f22b133aa5c4",
      "6359b0dfcdc74b6fa15813526cfc2bd9",
      "b84f3f3b91aa48fc88a561458049b2de",
      "c4195a62da324d579f50003278e30bc4",
      "1633ab1815824daab7ca8027a6a511c4",
      "6bb0e50ad8824b0aba1eb971446cc943",
      "db169d82fa8e443bbbada18b49059021",
      "cf03b929d7ca419c9933d37e4d701029",
      "412beb412b2f4e00a80eb90bc6c9e556",
      "0561ae3a945b4a86a751f6aafbd43c52",
      "485db2b289294ae08a2cb863104720f2",
      "006eceb7368e4f6681136c6a0cef6fbe",
      "51789cd64ca34eb5954ba46ef8440687",
      "2402d89e597d4b04aa4a64c2d9c098fe",
      "eda4e641b9e84129a21fbbe16f91199b",
      "a8307e24264b4906ac1915c45c1769e3",
      "97597b24e7ad4a358b280f7c61116c49",
      "b9ff2db211204765b656d827bc5e7f86"
     ]
    }
   },
   "execution_count": 12,
   "outputs": [
    {
     "data": {
      "text/plain": "Downloading:   0%|          | 0.00/28.0 [00:00<?, ?B/s]",
      "application/vnd.jupyter.widget-view+json": {
       "version_major": 2,
       "version_minor": 0,
       "model_id": "ba05d8fee2ac4383b16ce918e3146a41"
      }
     },
     "metadata": {},
     "output_type": "display_data"
    },
    {
     "data": {
      "text/plain": "Downloading:   0%|          | 0.00/570 [00:00<?, ?B/s]",
      "application/vnd.jupyter.widget-view+json": {
       "version_major": 2,
       "version_minor": 0,
       "model_id": "6a63133906c2482d8d45f067cc74fa14"
      }
     },
     "metadata": {},
     "output_type": "display_data"
    },
    {
     "data": {
      "text/plain": "Downloading:   0%|          | 0.00/226k [00:00<?, ?B/s]",
      "application/vnd.jupyter.widget-view+json": {
       "version_major": 2,
       "version_minor": 0,
       "model_id": "c89b8b54d4b248229029cf9d7cf5ec2e"
      }
     },
     "metadata": {},
     "output_type": "display_data"
    },
    {
     "data": {
      "text/plain": "Downloading:   0%|          | 0.00/455k [00:00<?, ?B/s]",
      "application/vnd.jupyter.widget-view+json": {
       "version_major": 2,
       "version_minor": 0,
       "model_id": "7cddedef51ac45d397d33c85659ca417"
      }
     },
     "metadata": {},
     "output_type": "display_data"
    },
    {
     "data": {
      "text/plain": "Downloading:   0%|          | 0.00/420M [00:00<?, ?B/s]",
      "application/vnd.jupyter.widget-view+json": {
       "version_major": 2,
       "version_minor": 0,
       "model_id": "042f082a281c45918e3dec81038a75d0"
      }
     },
     "metadata": {},
     "output_type": "display_data"
    },
    {
     "name": "stderr",
     "output_type": "stream",
     "text": [
      "Some weights of the model checkpoint at bert-base-uncased were not used when initializing BertModel: ['cls.predictions.transform.LayerNorm.bias', 'cls.predictions.transform.dense.bias', 'cls.predictions.transform.LayerNorm.weight', 'cls.predictions.decoder.weight', 'cls.seq_relationship.weight', 'cls.predictions.bias', 'cls.predictions.transform.dense.weight', 'cls.seq_relationship.bias']\n",
      "- This IS expected if you are initializing BertModel from the checkpoint of a model trained on another task or with another architecture (e.g. initializing a BertForSequenceClassification model from a BertForPreTraining model).\n",
      "- This IS NOT expected if you are initializing BertModel from the checkpoint of a model that you expect to be exactly identical (initializing a BertForSequenceClassification model from a BertForSequenceClassification model).\n"
     ]
    }
   ]
  },
  {
   "cell_type": "code",
   "execution_count": 13,
   "outputs": [
    {
     "data": {
      "text/plain": "109482240"
     },
     "execution_count": 13,
     "metadata": {},
     "output_type": "execute_result"
    }
   ],
   "source": [
    "sum(p.numel() for p in model.parameters() if p.requires_grad)"
   ],
   "metadata": {
    "collapsed": false
   }
  },
  {
   "cell_type": "code",
   "source": [
    "inputs = tokenizer([\"Hello world!\", 'this is the end'], padding=True, truncation=True, return_tensors=\"pt\")\n",
    "inputs['input_ids']"
   ],
   "metadata": {
    "id": "gsCRU10SWEQ-",
    "outputId": "75e46a9c-8b1b-4ea9-87d5-55c7db8ae330",
    "colab": {
     "base_uri": "https://localhost:8080/"
    }
   },
   "execution_count": 14,
   "outputs": [
    {
     "data": {
      "text/plain": "tensor([[ 101, 7592, 2088,  999,  102,    0],\n        [ 101, 2023, 2003, 1996, 2203,  102]])"
     },
     "execution_count": 14,
     "metadata": {},
     "output_type": "execute_result"
    }
   ]
  },
  {
   "cell_type": "code",
   "source": [
    "outputs = model(**inputs)\n",
    "outputs.pooler_output"
   ],
   "metadata": {
    "id": "YQyVAT7oWDuW",
    "outputId": "450ebdf4-94b7-4e86-faad-56a779363410",
    "colab": {
     "base_uri": "https://localhost:8080/"
    }
   },
   "execution_count": 15,
   "outputs": [
    {
     "data": {
      "text/plain": "tensor([[-0.8976, -0.3304, -0.7694,  ..., -0.6559, -0.6200,  0.9095],\n        [-0.8040, -0.1418,  0.5634,  ...,  0.5303, -0.5168,  0.8233]],\n       grad_fn=<TanhBackward0>)"
     },
     "execution_count": 15,
     "metadata": {},
     "output_type": "execute_result"
    }
   ]
  },
  {
   "cell_type": "code",
   "source": [
    "device = \"cuda\" if torch.cuda.is_available() else \"cpu\"\n",
    "\n",
    "class TextsAndLabels(Dataset):\n",
    "  def __init__(self, texts, labels):\n",
    "    self.texts = texts\n",
    "    self.labels = torch.tensor(labels, dtype=torch.float32)\n",
    "    self.length = self.labels.shape[0]\n",
    "\n",
    "  def __getitem__(self, idx):\n",
    "    return self.texts[idx], self.labels[idx]\n",
    "\n",
    "  def __len__(self):\n",
    "    return self.length\n",
    "\n",
    "\n",
    "trainset = TextsAndLabels(train_texts, train_labels)\n",
    "testset = TextsAndLabels(test_texts, test_labels)\n",
    "\n",
    "valset_size = int(len(testset) * 0.02)\n",
    "testset_size = len(testset) - valset_size\n",
    "valset = Subset(testset, range(valset_size))\n",
    "testset = Subset(testset, range(valset_size, valset_size + testset_size))\n",
    "\n",
    "class CollateBatch(object):\n",
    "  def __init__(self, tokenizer, model):\n",
    "    self.tokenizer = tokenizer\n",
    "    self.model = model\n",
    "\n",
    "  def __call__(self, batch):\n",
    "    texts_batch, labels_batch = [text_and_label[0] for text_and_label in batch], [text_and_label[1] for text_and_label in batch]\n",
    "    tok_ids = self.tokenizer(texts_batch, padding=True, truncation=True, return_tensors=\"pt\")\n",
    "    embs = self.model(**tok_ids).pooler_output\n",
    "    labels_batch = torch.tensor(labels_batch, dtype=torch.float32, device=device)\n",
    "    return embs, labels_batch\n",
    "\n",
    "collateBatch = CollateBatch(tokenizer, model)\n",
    "\n",
    "BATCH_SIZE = 32\n",
    "trainloader = DataLoader(trainset, batch_size=BATCH_SIZE, shuffle=False, collate_fn=collateBatch)\n",
    "valloader = DataLoader(valset, batch_size=BATCH_SIZE, shuffle=False, collate_fn=collateBatch)\n",
    "testloader = DataLoader(testset, batch_size=BATCH_SIZE, shuffle=False, collate_fn=collateBatch)"
   ],
   "metadata": {
    "id": "mg-wKg7Bi7M6"
   },
   "execution_count": 16,
   "outputs": []
  },
  {
   "cell_type": "code",
   "execution_count": 21,
   "outputs": [],
   "source": [
    "class BertClassifier(nn.Module):\n",
    "  def __init__(self, embed_size=1024):\n",
    "    super(BertClassifier, self).__init__()\n",
    "    self.embed_size = embed_size\n",
    "    self.fc1 = nn.Linear(embed_size, 1)\n",
    "\n",
    "  def forward(self, embs):\n",
    "    x = torch.sigmoid(self.fc1(embs))\n",
    "    return x\n",
    "\n",
    "\n",
    "classifier = BertClassifier().to(device)"
   ],
   "metadata": {
    "collapsed": false
   }
  },
  {
   "cell_type": "code",
   "execution_count": 23,
   "outputs": [],
   "source": [
    "learning_rate = 0.003\n",
    "epochs = 1\n",
    "# l2_penalty = 0.001\n",
    "l2_penalty = 0\n",
    "\n",
    "optimizer = torch.optim.RMSprop(classifier.parameters(), lr=learning_rate, weight_decay=l2_penalty)\n",
    "loss_fn = F.binary_cross_entropy_with_logits"
   ],
   "metadata": {
    "collapsed": false
   }
  },
  {
   "cell_type": "code",
   "execution_count": 22,
   "outputs": [
    {
     "ename": "NameError",
     "evalue": "name 'epochs' is not defined",
     "output_type": "error",
     "traceback": [
      "\u001B[1;31m---------------------------------------------------------------------------\u001B[0m",
      "\u001B[1;31mNameError\u001B[0m                                 Traceback (most recent call last)",
      "Input \u001B[1;32mIn [22]\u001B[0m, in \u001B[0;36m<cell line: 8>\u001B[1;34m()\u001B[0m\n\u001B[0;32m      5\u001B[0m writer \u001B[38;5;241m=\u001B[39m SummaryWriter()\n\u001B[0;32m      7\u001B[0m best_val_loss \u001B[38;5;241m=\u001B[39m \u001B[38;5;241m1e+8\u001B[39m\n\u001B[1;32m----> 8\u001B[0m \u001B[38;5;28;01mfor\u001B[39;00m epoch \u001B[38;5;129;01min\u001B[39;00m \u001B[38;5;28mrange\u001B[39m(\u001B[43mepochs\u001B[49m):\n\u001B[0;32m      9\u001B[0m   running_loss, correct, total \u001B[38;5;241m=\u001B[39m \u001B[38;5;241m0\u001B[39m, \u001B[38;5;241m0\u001B[39m, \u001B[38;5;241m0\u001B[39m\n\u001B[0;32m     10\u001B[0m   \u001B[38;5;28;01mfor\u001B[39;00m iteration, (x_train ,y_train) \u001B[38;5;129;01min\u001B[39;00m tqdm(\u001B[38;5;28menumerate\u001B[39m(trainloader), total\u001B[38;5;241m=\u001B[39m\u001B[38;5;28mlen\u001B[39m(trainloader)):\n",
      "\u001B[1;31mNameError\u001B[0m: name 'epochs' is not defined"
     ]
    }
   ],
   "source": [
    "torch.cuda.empty_cache()\n",
    "train_losses = []\n",
    "train_accs = []\n",
    "val_metrics = []\n",
    "writer = SummaryWriter()\n",
    "\n",
    "best_val_loss = 1e+8\n",
    "for epoch in range(epochs):\n",
    "  running_loss, correct, total = 0, 0, 0\n",
    "  for iteration, (x_train ,y_train) in tqdm(enumerate(trainloader), total=len(trainloader)):\n",
    "    optimizer.zero_grad()\n",
    "    y_train = y_train.reshape(-1,1)\n",
    "    with torch.autocast(device_type=device, dtype=torch.float16):\n",
    "      preds = classifier(x_train)\n",
    "      loss = loss_fn(preds, y_train)\n",
    "\n",
    "    running_loss += loss.item()\n",
    "    total += y_train.shape[0]\n",
    "    correct += preds.round().eq(y_train).sum().item()\n",
    "\n",
    "    loss.backward()\n",
    "    optimizer.step()\n",
    "\n",
    "    if iteration % 50 == 0:\n",
    "      _loss = running_loss / (iteration + 1)\n",
    "      acc = correct / total\n",
    "      print(\"epoch: {}\\titeration: {}\\tloss: {}\\tthis iteration loss: {}\\taccuracy: {}\".format(epoch, iteration, _loss, loss, acc))\n",
    "      writer.add_scalar(f\"BERTClassifier/train/loss/epoch{epoch}/iteration{iteration}\", loss, iteration)\n",
    "      writer.add_scalar(f\"BERTClassifier/train/acc/epoch{epoch}/iteration{iteration}\", acc, iteration)\n",
    "\n",
    "      loss, acc, prec, rec, f1 = eval_model(classifier, valloader, loss_fn)\n",
    "      writer.add_scalar(f\"BERTClassifier/val/loss/epoch{epoch}/iteration{iteration}\", loss, iteration)\n",
    "      writer.add_scalar(f\"BERTClassifier/val/acc/epoch{epoch}/iteration{iteration}\", acc, iteration)\n",
    "      writer.add_scalar(f\"BERTClassifier/val/prec/epoch{epoch}/iteration{iteration}\", prec, iteration)\n",
    "      writer.add_scalar(f\"BERTClassifier/val/rec/epoch{epoch}/iteration{iteration}\", rec, iteration)\n",
    "      writer.add_scalar(f\"BERTClassifier/val/f1/epoch{epoch}/iteration{iteration}\", f1, iteration)\n",
    "\n",
    "\n",
    "  loss = running_loss / len(trainloader)\n",
    "  acc = correct / total\n",
    "  train_losses.append(loss)\n",
    "  train_accs.append(acc)\n",
    "  print(\"epoch {}\\ttrain loss : {}\\ttrain accuracy : {}\".format(epoch, loss, acc))\n",
    "\n",
    "  loss, acc, prec, rec, f1 = eval_model(classifier, valloader, loss_fn)\n",
    "  val_metrics.append([loss, acc, prec, rec, f1])\n",
    "  print(\"epoch: {}\\tval loss: {}\\tval acc: {}\\tval prec: {}\\tval rec: {}\\tval f1: {}\".format(epoch, loss, acc, prec, rec, f1))\n",
    "\n",
    "writer.flush()\n",
    "writer.close()"
   ],
   "metadata": {
    "collapsed": false
   }
  },
  {
   "cell_type": "code",
   "execution_count": null,
   "outputs": [],
   "source": [
    "%load_ext tensorboard\n",
    "%tensorboard --logdir runs"
   ],
   "metadata": {
    "collapsed": false
   }
  },
  {
   "cell_type": "code",
   "execution_count": null,
   "outputs": [],
   "source": [
    "if IN_COLAB:\n",
    "  !kill $(ps aux | awk '{print $2}')"
   ],
   "metadata": {
    "id": "fNyFSp2wYdXQ",
    "pycharm": {
     "is_executing": true
    }
   }
  }
 ],
 "metadata": {
  "colab": {
   "provenance": [],
   "include_colab_link": true
  },
  "gpuClass": "standard",
  "kernelspec": {
   "display_name": "Python 3 (ipykernel)",
   "language": "python",
   "name": "python3"
  },
  "language_info": {
   "codemirror_mode": {
    "name": "ipython",
    "version": 3
   },
   "file_extension": ".py",
   "mimetype": "text/x-python",
   "name": "python",
   "nbconvert_exporter": "python",
   "pygments_lexer": "ipython3",
   "version": "3.10.6"
  },
  "widgets": {
   "application/vnd.jupyter.widget-state+json": {
    "0821c46acae84ba3a60eaae2bd8786eb": {
     "model_module": "@jupyter-widgets/output",
     "model_name": "OutputModel",
     "model_module_version": "1.0.0",
     "state": {
      "_dom_classes": [],
      "_model_module": "@jupyter-widgets/output",
      "_model_module_version": "1.0.0",
      "_model_name": "OutputModel",
      "_view_count": null,
      "_view_module": "@jupyter-widgets/output",
      "_view_module_version": "1.0.0",
      "_view_name": "OutputView",
      "layout": "IPY_MODEL_98de5dcc58d94bc09cf7befbaf581737",
      "msg_id": "",
      "outputs": [
       {
        "output_type": "display_data",
        "data": {
         "text/plain": "Downloading \u001B[3;36mhttps://s3-us-west-2.amazonaws.com/allennlp/model…\u001B[0m \u001B[38;5;237m━━━━━━━━━━━━━━━━━━━━━━━━━━━\u001B[0m \u001B[35m  0%\u001B[0m \u001B[33m0:00:00\u001B[0m \u001B[32m0/336 bytes\u001B[0m\n",
         "text/html": "<pre style=\"white-space:pre;overflow-x:auto;line-height:normal;font-family:Menlo,'DejaVu Sans Mono',consolas,'Courier New',monospace\">Downloading <span style=\"color: #008080; text-decoration-color: #008080; font-style: italic\">https://s3-us-west-2.amazonaws.com/allennlp/model…</span> <span style=\"color: #3a3a3a; text-decoration-color: #3a3a3a\">━━━━━━━━━━━━━━━━━━━━━━━━━━━</span> <span style=\"color: #800080; text-decoration-color: #800080\">  0%</span> <span style=\"color: #808000; text-decoration-color: #808000\">0:00:00</span> <span style=\"color: #008000; text-decoration-color: #008000\">0/336 bytes</span>\n</pre>\n"
        },
        "metadata": {}
       }
      ]
     }
    },
    "98de5dcc58d94bc09cf7befbaf581737": {
     "model_module": "@jupyter-widgets/base",
     "model_name": "LayoutModel",
     "model_module_version": "1.2.0",
     "state": {
      "_model_module": "@jupyter-widgets/base",
      "_model_module_version": "1.2.0",
      "_model_name": "LayoutModel",
      "_view_count": null,
      "_view_module": "@jupyter-widgets/base",
      "_view_module_version": "1.2.0",
      "_view_name": "LayoutView",
      "align_content": null,
      "align_items": null,
      "align_self": null,
      "border": null,
      "bottom": null,
      "display": null,
      "flex": null,
      "flex_flow": null,
      "grid_area": null,
      "grid_auto_columns": null,
      "grid_auto_flow": null,
      "grid_auto_rows": null,
      "grid_column": null,
      "grid_gap": null,
      "grid_row": null,
      "grid_template_areas": null,
      "grid_template_columns": null,
      "grid_template_rows": null,
      "height": null,
      "justify_content": null,
      "justify_items": null,
      "left": null,
      "margin": null,
      "max_height": null,
      "max_width": null,
      "min_height": null,
      "min_width": null,
      "object_fit": null,
      "object_position": null,
      "order": null,
      "overflow": null,
      "overflow_x": null,
      "overflow_y": null,
      "padding": null,
      "right": null,
      "top": null,
      "visibility": null,
      "width": null
     }
    },
    "fcf0231c34fa46e39c5bb5937321c642": {
     "model_module": "@jupyter-widgets/output",
     "model_name": "OutputModel",
     "model_module_version": "1.0.0",
     "state": {
      "_dom_classes": [],
      "_model_module": "@jupyter-widgets/output",
      "_model_module_version": "1.0.0",
      "_model_name": "OutputModel",
      "_view_count": null,
      "_view_module": "@jupyter-widgets/output",
      "_view_module_version": "1.0.0",
      "_view_name": "OutputView",
      "layout": "IPY_MODEL_ebf50a85531a436bb3333b3d1ac6baea",
      "msg_id": "",
      "outputs": [
       {
        "output_type": "display_data",
        "data": {
         "text/plain": "Downloading \u001B[3;36mhttps://s3-us-west-2.amazonaws.com/allennlp/model…\u001B[0m \u001B[38;2;249;38;114m━━━━━━━━━━━━━━━━━━━━━━━\u001B[0m\u001B[38;2;249;38;114m╸\u001B[0m \u001B[35m 99%\u001B[0m \u001B[33m0:00:29\u001B[0m \u001B[32m372.4/374.4 MB\u001B[0m\n",
         "text/html": "<pre style=\"white-space:pre;overflow-x:auto;line-height:normal;font-family:Menlo,'DejaVu Sans Mono',consolas,'Courier New',monospace\">Downloading <span style=\"color: #008080; text-decoration-color: #008080; font-style: italic\">https://s3-us-west-2.amazonaws.com/allennlp/model…</span> <span style=\"color: #f92672; text-decoration-color: #f92672\">━━━━━━━━━━━━━━━━━━━━━━━╸</span> <span style=\"color: #800080; text-decoration-color: #800080\"> 99%</span> <span style=\"color: #808000; text-decoration-color: #808000\">0:00:29</span> <span style=\"color: #008000; text-decoration-color: #008000\">372.4/374.4 MB</span>\n</pre>\n"
        },
        "metadata": {}
       }
      ]
     }
    },
    "ebf50a85531a436bb3333b3d1ac6baea": {
     "model_module": "@jupyter-widgets/base",
     "model_name": "LayoutModel",
     "model_module_version": "1.2.0",
     "state": {
      "_model_module": "@jupyter-widgets/base",
      "_model_module_version": "1.2.0",
      "_model_name": "LayoutModel",
      "_view_count": null,
      "_view_module": "@jupyter-widgets/base",
      "_view_module_version": "1.2.0",
      "_view_name": "LayoutView",
      "align_content": null,
      "align_items": null,
      "align_self": null,
      "border": null,
      "bottom": null,
      "display": null,
      "flex": null,
      "flex_flow": null,
      "grid_area": null,
      "grid_auto_columns": null,
      "grid_auto_flow": null,
      "grid_auto_rows": null,
      "grid_column": null,
      "grid_gap": null,
      "grid_row": null,
      "grid_template_areas": null,
      "grid_template_columns": null,
      "grid_template_rows": null,
      "height": null,
      "justify_content": null,
      "justify_items": null,
      "left": null,
      "margin": null,
      "max_height": null,
      "max_width": null,
      "min_height": null,
      "min_width": null,
      "object_fit": null,
      "object_position": null,
      "order": null,
      "overflow": null,
      "overflow_x": null,
      "overflow_y": null,
      "padding": null,
      "right": null,
      "top": null,
      "visibility": null,
      "width": null
     }
    },
    "11d36431c27949c0bf4b3939e4691db7": {
     "model_module": "@jupyter-widgets/controls",
     "model_name": "HBoxModel",
     "model_module_version": "1.5.0",
     "state": {
      "_dom_classes": [],
      "_model_module": "@jupyter-widgets/controls",
      "_model_module_version": "1.5.0",
      "_model_name": "HBoxModel",
      "_view_count": null,
      "_view_module": "@jupyter-widgets/controls",
      "_view_module_version": "1.5.0",
      "_view_name": "HBoxView",
      "box_style": "",
      "children": [
       "IPY_MODEL_5d5b4fb21efa43a896b13ab2cf5a827d",
       "IPY_MODEL_29f48cb4eeb04046910e099a2d9223c3",
       "IPY_MODEL_b70ef816c78542b5b60e0614ce2ef055"
      ],
      "layout": "IPY_MODEL_982783a704154e1ca1744377c813118d"
     }
    },
    "5d5b4fb21efa43a896b13ab2cf5a827d": {
     "model_module": "@jupyter-widgets/controls",
     "model_name": "HTMLModel",
     "model_module_version": "1.5.0",
     "state": {
      "_dom_classes": [],
      "_model_module": "@jupyter-widgets/controls",
      "_model_module_version": "1.5.0",
      "_model_name": "HTMLModel",
      "_view_count": null,
      "_view_module": "@jupyter-widgets/controls",
      "_view_module_version": "1.5.0",
      "_view_name": "HTMLView",
      "description": "",
      "description_tooltip": null,
      "layout": "IPY_MODEL_4d253b3d9761494e9a2202debd9fabfd",
      "placeholder": "​",
      "style": "IPY_MODEL_b13a45a2d1ec472f9e8255909e8d35ae",
      "value": "Downloading: 100%"
     }
    },
    "29f48cb4eeb04046910e099a2d9223c3": {
     "model_module": "@jupyter-widgets/controls",
     "model_name": "FloatProgressModel",
     "model_module_version": "1.5.0",
     "state": {
      "_dom_classes": [],
      "_model_module": "@jupyter-widgets/controls",
      "_model_module_version": "1.5.0",
      "_model_name": "FloatProgressModel",
      "_view_count": null,
      "_view_module": "@jupyter-widgets/controls",
      "_view_module_version": "1.5.0",
      "_view_name": "ProgressView",
      "bar_style": "success",
      "description": "",
      "description_tooltip": null,
      "layout": "IPY_MODEL_a1ce060880c74728864bb23c38c591a6",
      "max": 28,
      "min": 0,
      "orientation": "horizontal",
      "style": "IPY_MODEL_d5308dc9a7d54dcf8d07171b185e2a55",
      "value": 28
     }
    },
    "b70ef816c78542b5b60e0614ce2ef055": {
     "model_module": "@jupyter-widgets/controls",
     "model_name": "HTMLModel",
     "model_module_version": "1.5.0",
     "state": {
      "_dom_classes": [],
      "_model_module": "@jupyter-widgets/controls",
      "_model_module_version": "1.5.0",
      "_model_name": "HTMLModel",
      "_view_count": null,
      "_view_module": "@jupyter-widgets/controls",
      "_view_module_version": "1.5.0",
      "_view_name": "HTMLView",
      "description": "",
      "description_tooltip": null,
      "layout": "IPY_MODEL_cef1527b0a35468e98ceab408462e748",
      "placeholder": "​",
      "style": "IPY_MODEL_c95f2183c0314a9cb3505d170dfd0bb1",
      "value": " 28.0/28.0 [00:00&lt;00:00, 636B/s]"
     }
    },
    "982783a704154e1ca1744377c813118d": {
     "model_module": "@jupyter-widgets/base",
     "model_name": "LayoutModel",
     "model_module_version": "1.2.0",
     "state": {
      "_model_module": "@jupyter-widgets/base",
      "_model_module_version": "1.2.0",
      "_model_name": "LayoutModel",
      "_view_count": null,
      "_view_module": "@jupyter-widgets/base",
      "_view_module_version": "1.2.0",
      "_view_name": "LayoutView",
      "align_content": null,
      "align_items": null,
      "align_self": null,
      "border": null,
      "bottom": null,
      "display": null,
      "flex": null,
      "flex_flow": null,
      "grid_area": null,
      "grid_auto_columns": null,
      "grid_auto_flow": null,
      "grid_auto_rows": null,
      "grid_column": null,
      "grid_gap": null,
      "grid_row": null,
      "grid_template_areas": null,
      "grid_template_columns": null,
      "grid_template_rows": null,
      "height": null,
      "justify_content": null,
      "justify_items": null,
      "left": null,
      "margin": null,
      "max_height": null,
      "max_width": null,
      "min_height": null,
      "min_width": null,
      "object_fit": null,
      "object_position": null,
      "order": null,
      "overflow": null,
      "overflow_x": null,
      "overflow_y": null,
      "padding": null,
      "right": null,
      "top": null,
      "visibility": null,
      "width": null
     }
    },
    "4d253b3d9761494e9a2202debd9fabfd": {
     "model_module": "@jupyter-widgets/base",
     "model_name": "LayoutModel",
     "model_module_version": "1.2.0",
     "state": {
      "_model_module": "@jupyter-widgets/base",
      "_model_module_version": "1.2.0",
      "_model_name": "LayoutModel",
      "_view_count": null,
      "_view_module": "@jupyter-widgets/base",
      "_view_module_version": "1.2.0",
      "_view_name": "LayoutView",
      "align_content": null,
      "align_items": null,
      "align_self": null,
      "border": null,
      "bottom": null,
      "display": null,
      "flex": null,
      "flex_flow": null,
      "grid_area": null,
      "grid_auto_columns": null,
      "grid_auto_flow": null,
      "grid_auto_rows": null,
      "grid_column": null,
      "grid_gap": null,
      "grid_row": null,
      "grid_template_areas": null,
      "grid_template_columns": null,
      "grid_template_rows": null,
      "height": null,
      "justify_content": null,
      "justify_items": null,
      "left": null,
      "margin": null,
      "max_height": null,
      "max_width": null,
      "min_height": null,
      "min_width": null,
      "object_fit": null,
      "object_position": null,
      "order": null,
      "overflow": null,
      "overflow_x": null,
      "overflow_y": null,
      "padding": null,
      "right": null,
      "top": null,
      "visibility": null,
      "width": null
     }
    },
    "b13a45a2d1ec472f9e8255909e8d35ae": {
     "model_module": "@jupyter-widgets/controls",
     "model_name": "DescriptionStyleModel",
     "model_module_version": "1.5.0",
     "state": {
      "_model_module": "@jupyter-widgets/controls",
      "_model_module_version": "1.5.0",
      "_model_name": "DescriptionStyleModel",
      "_view_count": null,
      "_view_module": "@jupyter-widgets/base",
      "_view_module_version": "1.2.0",
      "_view_name": "StyleView",
      "description_width": ""
     }
    },
    "a1ce060880c74728864bb23c38c591a6": {
     "model_module": "@jupyter-widgets/base",
     "model_name": "LayoutModel",
     "model_module_version": "1.2.0",
     "state": {
      "_model_module": "@jupyter-widgets/base",
      "_model_module_version": "1.2.0",
      "_model_name": "LayoutModel",
      "_view_count": null,
      "_view_module": "@jupyter-widgets/base",
      "_view_module_version": "1.2.0",
      "_view_name": "LayoutView",
      "align_content": null,
      "align_items": null,
      "align_self": null,
      "border": null,
      "bottom": null,
      "display": null,
      "flex": null,
      "flex_flow": null,
      "grid_area": null,
      "grid_auto_columns": null,
      "grid_auto_flow": null,
      "grid_auto_rows": null,
      "grid_column": null,
      "grid_gap": null,
      "grid_row": null,
      "grid_template_areas": null,
      "grid_template_columns": null,
      "grid_template_rows": null,
      "height": null,
      "justify_content": null,
      "justify_items": null,
      "left": null,
      "margin": null,
      "max_height": null,
      "max_width": null,
      "min_height": null,
      "min_width": null,
      "object_fit": null,
      "object_position": null,
      "order": null,
      "overflow": null,
      "overflow_x": null,
      "overflow_y": null,
      "padding": null,
      "right": null,
      "top": null,
      "visibility": null,
      "width": null
     }
    },
    "d5308dc9a7d54dcf8d07171b185e2a55": {
     "model_module": "@jupyter-widgets/controls",
     "model_name": "ProgressStyleModel",
     "model_module_version": "1.5.0",
     "state": {
      "_model_module": "@jupyter-widgets/controls",
      "_model_module_version": "1.5.0",
      "_model_name": "ProgressStyleModel",
      "_view_count": null,
      "_view_module": "@jupyter-widgets/base",
      "_view_module_version": "1.2.0",
      "_view_name": "StyleView",
      "bar_color": null,
      "description_width": ""
     }
    },
    "cef1527b0a35468e98ceab408462e748": {
     "model_module": "@jupyter-widgets/base",
     "model_name": "LayoutModel",
     "model_module_version": "1.2.0",
     "state": {
      "_model_module": "@jupyter-widgets/base",
      "_model_module_version": "1.2.0",
      "_model_name": "LayoutModel",
      "_view_count": null,
      "_view_module": "@jupyter-widgets/base",
      "_view_module_version": "1.2.0",
      "_view_name": "LayoutView",
      "align_content": null,
      "align_items": null,
      "align_self": null,
      "border": null,
      "bottom": null,
      "display": null,
      "flex": null,
      "flex_flow": null,
      "grid_area": null,
      "grid_auto_columns": null,
      "grid_auto_flow": null,
      "grid_auto_rows": null,
      "grid_column": null,
      "grid_gap": null,
      "grid_row": null,
      "grid_template_areas": null,
      "grid_template_columns": null,
      "grid_template_rows": null,
      "height": null,
      "justify_content": null,
      "justify_items": null,
      "left": null,
      "margin": null,
      "max_height": null,
      "max_width": null,
      "min_height": null,
      "min_width": null,
      "object_fit": null,
      "object_position": null,
      "order": null,
      "overflow": null,
      "overflow_x": null,
      "overflow_y": null,
      "padding": null,
      "right": null,
      "top": null,
      "visibility": null,
      "width": null
     }
    },
    "c95f2183c0314a9cb3505d170dfd0bb1": {
     "model_module": "@jupyter-widgets/controls",
     "model_name": "DescriptionStyleModel",
     "model_module_version": "1.5.0",
     "state": {
      "_model_module": "@jupyter-widgets/controls",
      "_model_module_version": "1.5.0",
      "_model_name": "DescriptionStyleModel",
      "_view_count": null,
      "_view_module": "@jupyter-widgets/base",
      "_view_module_version": "1.2.0",
      "_view_name": "StyleView",
      "description_width": ""
     }
    },
    "29955f4de8d944709c07208e29fac160": {
     "model_module": "@jupyter-widgets/controls",
     "model_name": "HBoxModel",
     "model_module_version": "1.5.0",
     "state": {
      "_dom_classes": [],
      "_model_module": "@jupyter-widgets/controls",
      "_model_module_version": "1.5.0",
      "_model_name": "HBoxModel",
      "_view_count": null,
      "_view_module": "@jupyter-widgets/controls",
      "_view_module_version": "1.5.0",
      "_view_name": "HBoxView",
      "box_style": "",
      "children": [
       "IPY_MODEL_6e32b953ca62407bab6f249863e92572",
       "IPY_MODEL_14be03ce11844a549b5096dbe756bed0",
       "IPY_MODEL_a72a8eeffd0d48c884620473f5c25b7d"
      ],
      "layout": "IPY_MODEL_b7fb0645d24f4454b691a47cfc81172f"
     }
    },
    "6e32b953ca62407bab6f249863e92572": {
     "model_module": "@jupyter-widgets/controls",
     "model_name": "HTMLModel",
     "model_module_version": "1.5.0",
     "state": {
      "_dom_classes": [],
      "_model_module": "@jupyter-widgets/controls",
      "_model_module_version": "1.5.0",
      "_model_name": "HTMLModel",
      "_view_count": null,
      "_view_module": "@jupyter-widgets/controls",
      "_view_module_version": "1.5.0",
      "_view_name": "HTMLView",
      "description": "",
      "description_tooltip": null,
      "layout": "IPY_MODEL_3f069e7b7f4643a39e45e83777f4d20c",
      "placeholder": "​",
      "style": "IPY_MODEL_bab0a78455664b6ab8f2626f8262a0d1",
      "value": "Downloading: 100%"
     }
    },
    "14be03ce11844a549b5096dbe756bed0": {
     "model_module": "@jupyter-widgets/controls",
     "model_name": "FloatProgressModel",
     "model_module_version": "1.5.0",
     "state": {
      "_dom_classes": [],
      "_model_module": "@jupyter-widgets/controls",
      "_model_module_version": "1.5.0",
      "_model_name": "FloatProgressModel",
      "_view_count": null,
      "_view_module": "@jupyter-widgets/controls",
      "_view_module_version": "1.5.0",
      "_view_name": "ProgressView",
      "bar_style": "success",
      "description": "",
      "description_tooltip": null,
      "layout": "IPY_MODEL_c032cd3aa70944d79ada4c282b0f109f",
      "max": 570,
      "min": 0,
      "orientation": "horizontal",
      "style": "IPY_MODEL_5f96d3dcce624e71aecae508bda616b6",
      "value": 570
     }
    },
    "a72a8eeffd0d48c884620473f5c25b7d": {
     "model_module": "@jupyter-widgets/controls",
     "model_name": "HTMLModel",
     "model_module_version": "1.5.0",
     "state": {
      "_dom_classes": [],
      "_model_module": "@jupyter-widgets/controls",
      "_model_module_version": "1.5.0",
      "_model_name": "HTMLModel",
      "_view_count": null,
      "_view_module": "@jupyter-widgets/controls",
      "_view_module_version": "1.5.0",
      "_view_name": "HTMLView",
      "description": "",
      "description_tooltip": null,
      "layout": "IPY_MODEL_5ddaf64a72224426a95c9607b5eae51a",
      "placeholder": "​",
      "style": "IPY_MODEL_c1c4ad8da89e40e99b0bcb6985fcd236",
      "value": " 570/570 [00:00&lt;00:00, 13.5kB/s]"
     }
    },
    "b7fb0645d24f4454b691a47cfc81172f": {
     "model_module": "@jupyter-widgets/base",
     "model_name": "LayoutModel",
     "model_module_version": "1.2.0",
     "state": {
      "_model_module": "@jupyter-widgets/base",
      "_model_module_version": "1.2.0",
      "_model_name": "LayoutModel",
      "_view_count": null,
      "_view_module": "@jupyter-widgets/base",
      "_view_module_version": "1.2.0",
      "_view_name": "LayoutView",
      "align_content": null,
      "align_items": null,
      "align_self": null,
      "border": null,
      "bottom": null,
      "display": null,
      "flex": null,
      "flex_flow": null,
      "grid_area": null,
      "grid_auto_columns": null,
      "grid_auto_flow": null,
      "grid_auto_rows": null,
      "grid_column": null,
      "grid_gap": null,
      "grid_row": null,
      "grid_template_areas": null,
      "grid_template_columns": null,
      "grid_template_rows": null,
      "height": null,
      "justify_content": null,
      "justify_items": null,
      "left": null,
      "margin": null,
      "max_height": null,
      "max_width": null,
      "min_height": null,
      "min_width": null,
      "object_fit": null,
      "object_position": null,
      "order": null,
      "overflow": null,
      "overflow_x": null,
      "overflow_y": null,
      "padding": null,
      "right": null,
      "top": null,
      "visibility": null,
      "width": null
     }
    },
    "3f069e7b7f4643a39e45e83777f4d20c": {
     "model_module": "@jupyter-widgets/base",
     "model_name": "LayoutModel",
     "model_module_version": "1.2.0",
     "state": {
      "_model_module": "@jupyter-widgets/base",
      "_model_module_version": "1.2.0",
      "_model_name": "LayoutModel",
      "_view_count": null,
      "_view_module": "@jupyter-widgets/base",
      "_view_module_version": "1.2.0",
      "_view_name": "LayoutView",
      "align_content": null,
      "align_items": null,
      "align_self": null,
      "border": null,
      "bottom": null,
      "display": null,
      "flex": null,
      "flex_flow": null,
      "grid_area": null,
      "grid_auto_columns": null,
      "grid_auto_flow": null,
      "grid_auto_rows": null,
      "grid_column": null,
      "grid_gap": null,
      "grid_row": null,
      "grid_template_areas": null,
      "grid_template_columns": null,
      "grid_template_rows": null,
      "height": null,
      "justify_content": null,
      "justify_items": null,
      "left": null,
      "margin": null,
      "max_height": null,
      "max_width": null,
      "min_height": null,
      "min_width": null,
      "object_fit": null,
      "object_position": null,
      "order": null,
      "overflow": null,
      "overflow_x": null,
      "overflow_y": null,
      "padding": null,
      "right": null,
      "top": null,
      "visibility": null,
      "width": null
     }
    },
    "bab0a78455664b6ab8f2626f8262a0d1": {
     "model_module": "@jupyter-widgets/controls",
     "model_name": "DescriptionStyleModel",
     "model_module_version": "1.5.0",
     "state": {
      "_model_module": "@jupyter-widgets/controls",
      "_model_module_version": "1.5.0",
      "_model_name": "DescriptionStyleModel",
      "_view_count": null,
      "_view_module": "@jupyter-widgets/base",
      "_view_module_version": "1.2.0",
      "_view_name": "StyleView",
      "description_width": ""
     }
    },
    "c032cd3aa70944d79ada4c282b0f109f": {
     "model_module": "@jupyter-widgets/base",
     "model_name": "LayoutModel",
     "model_module_version": "1.2.0",
     "state": {
      "_model_module": "@jupyter-widgets/base",
      "_model_module_version": "1.2.0",
      "_model_name": "LayoutModel",
      "_view_count": null,
      "_view_module": "@jupyter-widgets/base",
      "_view_module_version": "1.2.0",
      "_view_name": "LayoutView",
      "align_content": null,
      "align_items": null,
      "align_self": null,
      "border": null,
      "bottom": null,
      "display": null,
      "flex": null,
      "flex_flow": null,
      "grid_area": null,
      "grid_auto_columns": null,
      "grid_auto_flow": null,
      "grid_auto_rows": null,
      "grid_column": null,
      "grid_gap": null,
      "grid_row": null,
      "grid_template_areas": null,
      "grid_template_columns": null,
      "grid_template_rows": null,
      "height": null,
      "justify_content": null,
      "justify_items": null,
      "left": null,
      "margin": null,
      "max_height": null,
      "max_width": null,
      "min_height": null,
      "min_width": null,
      "object_fit": null,
      "object_position": null,
      "order": null,
      "overflow": null,
      "overflow_x": null,
      "overflow_y": null,
      "padding": null,
      "right": null,
      "top": null,
      "visibility": null,
      "width": null
     }
    },
    "5f96d3dcce624e71aecae508bda616b6": {
     "model_module": "@jupyter-widgets/controls",
     "model_name": "ProgressStyleModel",
     "model_module_version": "1.5.0",
     "state": {
      "_model_module": "@jupyter-widgets/controls",
      "_model_module_version": "1.5.0",
      "_model_name": "ProgressStyleModel",
      "_view_count": null,
      "_view_module": "@jupyter-widgets/base",
      "_view_module_version": "1.2.0",
      "_view_name": "StyleView",
      "bar_color": null,
      "description_width": ""
     }
    },
    "5ddaf64a72224426a95c9607b5eae51a": {
     "model_module": "@jupyter-widgets/base",
     "model_name": "LayoutModel",
     "model_module_version": "1.2.0",
     "state": {
      "_model_module": "@jupyter-widgets/base",
      "_model_module_version": "1.2.0",
      "_model_name": "LayoutModel",
      "_view_count": null,
      "_view_module": "@jupyter-widgets/base",
      "_view_module_version": "1.2.0",
      "_view_name": "LayoutView",
      "align_content": null,
      "align_items": null,
      "align_self": null,
      "border": null,
      "bottom": null,
      "display": null,
      "flex": null,
      "flex_flow": null,
      "grid_area": null,
      "grid_auto_columns": null,
      "grid_auto_flow": null,
      "grid_auto_rows": null,
      "grid_column": null,
      "grid_gap": null,
      "grid_row": null,
      "grid_template_areas": null,
      "grid_template_columns": null,
      "grid_template_rows": null,
      "height": null,
      "justify_content": null,
      "justify_items": null,
      "left": null,
      "margin": null,
      "max_height": null,
      "max_width": null,
      "min_height": null,
      "min_width": null,
      "object_fit": null,
      "object_position": null,
      "order": null,
      "overflow": null,
      "overflow_x": null,
      "overflow_y": null,
      "padding": null,
      "right": null,
      "top": null,
      "visibility": null,
      "width": null
     }
    },
    "c1c4ad8da89e40e99b0bcb6985fcd236": {
     "model_module": "@jupyter-widgets/controls",
     "model_name": "DescriptionStyleModel",
     "model_module_version": "1.5.0",
     "state": {
      "_model_module": "@jupyter-widgets/controls",
      "_model_module_version": "1.5.0",
      "_model_name": "DescriptionStyleModel",
      "_view_count": null,
      "_view_module": "@jupyter-widgets/base",
      "_view_module_version": "1.2.0",
      "_view_name": "StyleView",
      "description_width": ""
     }
    },
    "c67ebe51102c4bdebd8106efde94b282": {
     "model_module": "@jupyter-widgets/controls",
     "model_name": "HBoxModel",
     "model_module_version": "1.5.0",
     "state": {
      "_dom_classes": [],
      "_model_module": "@jupyter-widgets/controls",
      "_model_module_version": "1.5.0",
      "_model_name": "HBoxModel",
      "_view_count": null,
      "_view_module": "@jupyter-widgets/controls",
      "_view_module_version": "1.5.0",
      "_view_name": "HBoxView",
      "box_style": "",
      "children": [
       "IPY_MODEL_8185956c6dfa40e9a7ff7825a431a4bc",
       "IPY_MODEL_baf181431e664b8c81864bece9b7bfc5",
       "IPY_MODEL_6031b93d925f4f60b27e854d97392b01"
      ],
      "layout": "IPY_MODEL_7f6cc566cd274c8d9938b2604428ace8"
     }
    },
    "8185956c6dfa40e9a7ff7825a431a4bc": {
     "model_module": "@jupyter-widgets/controls",
     "model_name": "HTMLModel",
     "model_module_version": "1.5.0",
     "state": {
      "_dom_classes": [],
      "_model_module": "@jupyter-widgets/controls",
      "_model_module_version": "1.5.0",
      "_model_name": "HTMLModel",
      "_view_count": null,
      "_view_module": "@jupyter-widgets/controls",
      "_view_module_version": "1.5.0",
      "_view_name": "HTMLView",
      "description": "",
      "description_tooltip": null,
      "layout": "IPY_MODEL_12dc550540724fc8b134ae730452a5cc",
      "placeholder": "​",
      "style": "IPY_MODEL_d2c3ba4600bb4ada8262a6a6d27b6562",
      "value": "Downloading: 100%"
     }
    },
    "baf181431e664b8c81864bece9b7bfc5": {
     "model_module": "@jupyter-widgets/controls",
     "model_name": "FloatProgressModel",
     "model_module_version": "1.5.0",
     "state": {
      "_dom_classes": [],
      "_model_module": "@jupyter-widgets/controls",
      "_model_module_version": "1.5.0",
      "_model_name": "FloatProgressModel",
      "_view_count": null,
      "_view_module": "@jupyter-widgets/controls",
      "_view_module_version": "1.5.0",
      "_view_name": "ProgressView",
      "bar_style": "success",
      "description": "",
      "description_tooltip": null,
      "layout": "IPY_MODEL_8796463ff78b4658ac65f8b4a38bb8b2",
      "max": 231508,
      "min": 0,
      "orientation": "horizontal",
      "style": "IPY_MODEL_f0f36214a9054950ab709ba3a9743f3a",
      "value": 231508
     }
    },
    "6031b93d925f4f60b27e854d97392b01": {
     "model_module": "@jupyter-widgets/controls",
     "model_name": "HTMLModel",
     "model_module_version": "1.5.0",
     "state": {
      "_dom_classes": [],
      "_model_module": "@jupyter-widgets/controls",
      "_model_module_version": "1.5.0",
      "_model_name": "HTMLModel",
      "_view_count": null,
      "_view_module": "@jupyter-widgets/controls",
      "_view_module_version": "1.5.0",
      "_view_name": "HTMLView",
      "description": "",
      "description_tooltip": null,
      "layout": "IPY_MODEL_79bdf9861079498187b19c9878752123",
      "placeholder": "​",
      "style": "IPY_MODEL_1de331a3535146e39ef7265aac9b9323",
      "value": " 232k/232k [00:00&lt;00:00, 2.37MB/s]"
     }
    },
    "7f6cc566cd274c8d9938b2604428ace8": {
     "model_module": "@jupyter-widgets/base",
     "model_name": "LayoutModel",
     "model_module_version": "1.2.0",
     "state": {
      "_model_module": "@jupyter-widgets/base",
      "_model_module_version": "1.2.0",
      "_model_name": "LayoutModel",
      "_view_count": null,
      "_view_module": "@jupyter-widgets/base",
      "_view_module_version": "1.2.0",
      "_view_name": "LayoutView",
      "align_content": null,
      "align_items": null,
      "align_self": null,
      "border": null,
      "bottom": null,
      "display": null,
      "flex": null,
      "flex_flow": null,
      "grid_area": null,
      "grid_auto_columns": null,
      "grid_auto_flow": null,
      "grid_auto_rows": null,
      "grid_column": null,
      "grid_gap": null,
      "grid_row": null,
      "grid_template_areas": null,
      "grid_template_columns": null,
      "grid_template_rows": null,
      "height": null,
      "justify_content": null,
      "justify_items": null,
      "left": null,
      "margin": null,
      "max_height": null,
      "max_width": null,
      "min_height": null,
      "min_width": null,
      "object_fit": null,
      "object_position": null,
      "order": null,
      "overflow": null,
      "overflow_x": null,
      "overflow_y": null,
      "padding": null,
      "right": null,
      "top": null,
      "visibility": null,
      "width": null
     }
    },
    "12dc550540724fc8b134ae730452a5cc": {
     "model_module": "@jupyter-widgets/base",
     "model_name": "LayoutModel",
     "model_module_version": "1.2.0",
     "state": {
      "_model_module": "@jupyter-widgets/base",
      "_model_module_version": "1.2.0",
      "_model_name": "LayoutModel",
      "_view_count": null,
      "_view_module": "@jupyter-widgets/base",
      "_view_module_version": "1.2.0",
      "_view_name": "LayoutView",
      "align_content": null,
      "align_items": null,
      "align_self": null,
      "border": null,
      "bottom": null,
      "display": null,
      "flex": null,
      "flex_flow": null,
      "grid_area": null,
      "grid_auto_columns": null,
      "grid_auto_flow": null,
      "grid_auto_rows": null,
      "grid_column": null,
      "grid_gap": null,
      "grid_row": null,
      "grid_template_areas": null,
      "grid_template_columns": null,
      "grid_template_rows": null,
      "height": null,
      "justify_content": null,
      "justify_items": null,
      "left": null,
      "margin": null,
      "max_height": null,
      "max_width": null,
      "min_height": null,
      "min_width": null,
      "object_fit": null,
      "object_position": null,
      "order": null,
      "overflow": null,
      "overflow_x": null,
      "overflow_y": null,
      "padding": null,
      "right": null,
      "top": null,
      "visibility": null,
      "width": null
     }
    },
    "d2c3ba4600bb4ada8262a6a6d27b6562": {
     "model_module": "@jupyter-widgets/controls",
     "model_name": "DescriptionStyleModel",
     "model_module_version": "1.5.0",
     "state": {
      "_model_module": "@jupyter-widgets/controls",
      "_model_module_version": "1.5.0",
      "_model_name": "DescriptionStyleModel",
      "_view_count": null,
      "_view_module": "@jupyter-widgets/base",
      "_view_module_version": "1.2.0",
      "_view_name": "StyleView",
      "description_width": ""
     }
    },
    "8796463ff78b4658ac65f8b4a38bb8b2": {
     "model_module": "@jupyter-widgets/base",
     "model_name": "LayoutModel",
     "model_module_version": "1.2.0",
     "state": {
      "_model_module": "@jupyter-widgets/base",
      "_model_module_version": "1.2.0",
      "_model_name": "LayoutModel",
      "_view_count": null,
      "_view_module": "@jupyter-widgets/base",
      "_view_module_version": "1.2.0",
      "_view_name": "LayoutView",
      "align_content": null,
      "align_items": null,
      "align_self": null,
      "border": null,
      "bottom": null,
      "display": null,
      "flex": null,
      "flex_flow": null,
      "grid_area": null,
      "grid_auto_columns": null,
      "grid_auto_flow": null,
      "grid_auto_rows": null,
      "grid_column": null,
      "grid_gap": null,
      "grid_row": null,
      "grid_template_areas": null,
      "grid_template_columns": null,
      "grid_template_rows": null,
      "height": null,
      "justify_content": null,
      "justify_items": null,
      "left": null,
      "margin": null,
      "max_height": null,
      "max_width": null,
      "min_height": null,
      "min_width": null,
      "object_fit": null,
      "object_position": null,
      "order": null,
      "overflow": null,
      "overflow_x": null,
      "overflow_y": null,
      "padding": null,
      "right": null,
      "top": null,
      "visibility": null,
      "width": null
     }
    },
    "f0f36214a9054950ab709ba3a9743f3a": {
     "model_module": "@jupyter-widgets/controls",
     "model_name": "ProgressStyleModel",
     "model_module_version": "1.5.0",
     "state": {
      "_model_module": "@jupyter-widgets/controls",
      "_model_module_version": "1.5.0",
      "_model_name": "ProgressStyleModel",
      "_view_count": null,
      "_view_module": "@jupyter-widgets/base",
      "_view_module_version": "1.2.0",
      "_view_name": "StyleView",
      "bar_color": null,
      "description_width": ""
     }
    },
    "79bdf9861079498187b19c9878752123": {
     "model_module": "@jupyter-widgets/base",
     "model_name": "LayoutModel",
     "model_module_version": "1.2.0",
     "state": {
      "_model_module": "@jupyter-widgets/base",
      "_model_module_version": "1.2.0",
      "_model_name": "LayoutModel",
      "_view_count": null,
      "_view_module": "@jupyter-widgets/base",
      "_view_module_version": "1.2.0",
      "_view_name": "LayoutView",
      "align_content": null,
      "align_items": null,
      "align_self": null,
      "border": null,
      "bottom": null,
      "display": null,
      "flex": null,
      "flex_flow": null,
      "grid_area": null,
      "grid_auto_columns": null,
      "grid_auto_flow": null,
      "grid_auto_rows": null,
      "grid_column": null,
      "grid_gap": null,
      "grid_row": null,
      "grid_template_areas": null,
      "grid_template_columns": null,
      "grid_template_rows": null,
      "height": null,
      "justify_content": null,
      "justify_items": null,
      "left": null,
      "margin": null,
      "max_height": null,
      "max_width": null,
      "min_height": null,
      "min_width": null,
      "object_fit": null,
      "object_position": null,
      "order": null,
      "overflow": null,
      "overflow_x": null,
      "overflow_y": null,
      "padding": null,
      "right": null,
      "top": null,
      "visibility": null,
      "width": null
     }
    },
    "1de331a3535146e39ef7265aac9b9323": {
     "model_module": "@jupyter-widgets/controls",
     "model_name": "DescriptionStyleModel",
     "model_module_version": "1.5.0",
     "state": {
      "_model_module": "@jupyter-widgets/controls",
      "_model_module_version": "1.5.0",
      "_model_name": "DescriptionStyleModel",
      "_view_count": null,
      "_view_module": "@jupyter-widgets/base",
      "_view_module_version": "1.2.0",
      "_view_name": "StyleView",
      "description_width": ""
     }
    },
    "16dd93419f0a420a9b4f11947b72f548": {
     "model_module": "@jupyter-widgets/controls",
     "model_name": "HBoxModel",
     "model_module_version": "1.5.0",
     "state": {
      "_dom_classes": [],
      "_model_module": "@jupyter-widgets/controls",
      "_model_module_version": "1.5.0",
      "_model_name": "HBoxModel",
      "_view_count": null,
      "_view_module": "@jupyter-widgets/controls",
      "_view_module_version": "1.5.0",
      "_view_name": "HBoxView",
      "box_style": "",
      "children": [
       "IPY_MODEL_5b178a0527de4ac9a494674aea5d79be",
       "IPY_MODEL_37f505314c4d4b8b84e0d6fed4fa6ee5",
       "IPY_MODEL_672ea5d09320460ba799c56e4f563a2a"
      ],
      "layout": "IPY_MODEL_548b4b906d784b49a703f22b133aa5c4"
     }
    },
    "5b178a0527de4ac9a494674aea5d79be": {
     "model_module": "@jupyter-widgets/controls",
     "model_name": "HTMLModel",
     "model_module_version": "1.5.0",
     "state": {
      "_dom_classes": [],
      "_model_module": "@jupyter-widgets/controls",
      "_model_module_version": "1.5.0",
      "_model_name": "HTMLModel",
      "_view_count": null,
      "_view_module": "@jupyter-widgets/controls",
      "_view_module_version": "1.5.0",
      "_view_name": "HTMLView",
      "description": "",
      "description_tooltip": null,
      "layout": "IPY_MODEL_6359b0dfcdc74b6fa15813526cfc2bd9",
      "placeholder": "​",
      "style": "IPY_MODEL_b84f3f3b91aa48fc88a561458049b2de",
      "value": "Downloading: 100%"
     }
    },
    "37f505314c4d4b8b84e0d6fed4fa6ee5": {
     "model_module": "@jupyter-widgets/controls",
     "model_name": "FloatProgressModel",
     "model_module_version": "1.5.0",
     "state": {
      "_dom_classes": [],
      "_model_module": "@jupyter-widgets/controls",
      "_model_module_version": "1.5.0",
      "_model_name": "FloatProgressModel",
      "_view_count": null,
      "_view_module": "@jupyter-widgets/controls",
      "_view_module_version": "1.5.0",
      "_view_name": "ProgressView",
      "bar_style": "success",
      "description": "",
      "description_tooltip": null,
      "layout": "IPY_MODEL_c4195a62da324d579f50003278e30bc4",
      "max": 466062,
      "min": 0,
      "orientation": "horizontal",
      "style": "IPY_MODEL_1633ab1815824daab7ca8027a6a511c4",
      "value": 466062
     }
    },
    "672ea5d09320460ba799c56e4f563a2a": {
     "model_module": "@jupyter-widgets/controls",
     "model_name": "HTMLModel",
     "model_module_version": "1.5.0",
     "state": {
      "_dom_classes": [],
      "_model_module": "@jupyter-widgets/controls",
      "_model_module_version": "1.5.0",
      "_model_name": "HTMLModel",
      "_view_count": null,
      "_view_module": "@jupyter-widgets/controls",
      "_view_module_version": "1.5.0",
      "_view_name": "HTMLView",
      "description": "",
      "description_tooltip": null,
      "layout": "IPY_MODEL_6bb0e50ad8824b0aba1eb971446cc943",
      "placeholder": "​",
      "style": "IPY_MODEL_db169d82fa8e443bbbada18b49059021",
      "value": " 466k/466k [00:00&lt;00:00, 3.04MB/s]"
     }
    },
    "548b4b906d784b49a703f22b133aa5c4": {
     "model_module": "@jupyter-widgets/base",
     "model_name": "LayoutModel",
     "model_module_version": "1.2.0",
     "state": {
      "_model_module": "@jupyter-widgets/base",
      "_model_module_version": "1.2.0",
      "_model_name": "LayoutModel",
      "_view_count": null,
      "_view_module": "@jupyter-widgets/base",
      "_view_module_version": "1.2.0",
      "_view_name": "LayoutView",
      "align_content": null,
      "align_items": null,
      "align_self": null,
      "border": null,
      "bottom": null,
      "display": null,
      "flex": null,
      "flex_flow": null,
      "grid_area": null,
      "grid_auto_columns": null,
      "grid_auto_flow": null,
      "grid_auto_rows": null,
      "grid_column": null,
      "grid_gap": null,
      "grid_row": null,
      "grid_template_areas": null,
      "grid_template_columns": null,
      "grid_template_rows": null,
      "height": null,
      "justify_content": null,
      "justify_items": null,
      "left": null,
      "margin": null,
      "max_height": null,
      "max_width": null,
      "min_height": null,
      "min_width": null,
      "object_fit": null,
      "object_position": null,
      "order": null,
      "overflow": null,
      "overflow_x": null,
      "overflow_y": null,
      "padding": null,
      "right": null,
      "top": null,
      "visibility": null,
      "width": null
     }
    },
    "6359b0dfcdc74b6fa15813526cfc2bd9": {
     "model_module": "@jupyter-widgets/base",
     "model_name": "LayoutModel",
     "model_module_version": "1.2.0",
     "state": {
      "_model_module": "@jupyter-widgets/base",
      "_model_module_version": "1.2.0",
      "_model_name": "LayoutModel",
      "_view_count": null,
      "_view_module": "@jupyter-widgets/base",
      "_view_module_version": "1.2.0",
      "_view_name": "LayoutView",
      "align_content": null,
      "align_items": null,
      "align_self": null,
      "border": null,
      "bottom": null,
      "display": null,
      "flex": null,
      "flex_flow": null,
      "grid_area": null,
      "grid_auto_columns": null,
      "grid_auto_flow": null,
      "grid_auto_rows": null,
      "grid_column": null,
      "grid_gap": null,
      "grid_row": null,
      "grid_template_areas": null,
      "grid_template_columns": null,
      "grid_template_rows": null,
      "height": null,
      "justify_content": null,
      "justify_items": null,
      "left": null,
      "margin": null,
      "max_height": null,
      "max_width": null,
      "min_height": null,
      "min_width": null,
      "object_fit": null,
      "object_position": null,
      "order": null,
      "overflow": null,
      "overflow_x": null,
      "overflow_y": null,
      "padding": null,
      "right": null,
      "top": null,
      "visibility": null,
      "width": null
     }
    },
    "b84f3f3b91aa48fc88a561458049b2de": {
     "model_module": "@jupyter-widgets/controls",
     "model_name": "DescriptionStyleModel",
     "model_module_version": "1.5.0",
     "state": {
      "_model_module": "@jupyter-widgets/controls",
      "_model_module_version": "1.5.0",
      "_model_name": "DescriptionStyleModel",
      "_view_count": null,
      "_view_module": "@jupyter-widgets/base",
      "_view_module_version": "1.2.0",
      "_view_name": "StyleView",
      "description_width": ""
     }
    },
    "c4195a62da324d579f50003278e30bc4": {
     "model_module": "@jupyter-widgets/base",
     "model_name": "LayoutModel",
     "model_module_version": "1.2.0",
     "state": {
      "_model_module": "@jupyter-widgets/base",
      "_model_module_version": "1.2.0",
      "_model_name": "LayoutModel",
      "_view_count": null,
      "_view_module": "@jupyter-widgets/base",
      "_view_module_version": "1.2.0",
      "_view_name": "LayoutView",
      "align_content": null,
      "align_items": null,
      "align_self": null,
      "border": null,
      "bottom": null,
      "display": null,
      "flex": null,
      "flex_flow": null,
      "grid_area": null,
      "grid_auto_columns": null,
      "grid_auto_flow": null,
      "grid_auto_rows": null,
      "grid_column": null,
      "grid_gap": null,
      "grid_row": null,
      "grid_template_areas": null,
      "grid_template_columns": null,
      "grid_template_rows": null,
      "height": null,
      "justify_content": null,
      "justify_items": null,
      "left": null,
      "margin": null,
      "max_height": null,
      "max_width": null,
      "min_height": null,
      "min_width": null,
      "object_fit": null,
      "object_position": null,
      "order": null,
      "overflow": null,
      "overflow_x": null,
      "overflow_y": null,
      "padding": null,
      "right": null,
      "top": null,
      "visibility": null,
      "width": null
     }
    },
    "1633ab1815824daab7ca8027a6a511c4": {
     "model_module": "@jupyter-widgets/controls",
     "model_name": "ProgressStyleModel",
     "model_module_version": "1.5.0",
     "state": {
      "_model_module": "@jupyter-widgets/controls",
      "_model_module_version": "1.5.0",
      "_model_name": "ProgressStyleModel",
      "_view_count": null,
      "_view_module": "@jupyter-widgets/base",
      "_view_module_version": "1.2.0",
      "_view_name": "StyleView",
      "bar_color": null,
      "description_width": ""
     }
    },
    "6bb0e50ad8824b0aba1eb971446cc943": {
     "model_module": "@jupyter-widgets/base",
     "model_name": "LayoutModel",
     "model_module_version": "1.2.0",
     "state": {
      "_model_module": "@jupyter-widgets/base",
      "_model_module_version": "1.2.0",
      "_model_name": "LayoutModel",
      "_view_count": null,
      "_view_module": "@jupyter-widgets/base",
      "_view_module_version": "1.2.0",
      "_view_name": "LayoutView",
      "align_content": null,
      "align_items": null,
      "align_self": null,
      "border": null,
      "bottom": null,
      "display": null,
      "flex": null,
      "flex_flow": null,
      "grid_area": null,
      "grid_auto_columns": null,
      "grid_auto_flow": null,
      "grid_auto_rows": null,
      "grid_column": null,
      "grid_gap": null,
      "grid_row": null,
      "grid_template_areas": null,
      "grid_template_columns": null,
      "grid_template_rows": null,
      "height": null,
      "justify_content": null,
      "justify_items": null,
      "left": null,
      "margin": null,
      "max_height": null,
      "max_width": null,
      "min_height": null,
      "min_width": null,
      "object_fit": null,
      "object_position": null,
      "order": null,
      "overflow": null,
      "overflow_x": null,
      "overflow_y": null,
      "padding": null,
      "right": null,
      "top": null,
      "visibility": null,
      "width": null
     }
    },
    "db169d82fa8e443bbbada18b49059021": {
     "model_module": "@jupyter-widgets/controls",
     "model_name": "DescriptionStyleModel",
     "model_module_version": "1.5.0",
     "state": {
      "_model_module": "@jupyter-widgets/controls",
      "_model_module_version": "1.5.0",
      "_model_name": "DescriptionStyleModel",
      "_view_count": null,
      "_view_module": "@jupyter-widgets/base",
      "_view_module_version": "1.2.0",
      "_view_name": "StyleView",
      "description_width": ""
     }
    },
    "cf03b929d7ca419c9933d37e4d701029": {
     "model_module": "@jupyter-widgets/controls",
     "model_name": "HBoxModel",
     "model_module_version": "1.5.0",
     "state": {
      "_dom_classes": [],
      "_model_module": "@jupyter-widgets/controls",
      "_model_module_version": "1.5.0",
      "_model_name": "HBoxModel",
      "_view_count": null,
      "_view_module": "@jupyter-widgets/controls",
      "_view_module_version": "1.5.0",
      "_view_name": "HBoxView",
      "box_style": "",
      "children": [
       "IPY_MODEL_412beb412b2f4e00a80eb90bc6c9e556",
       "IPY_MODEL_0561ae3a945b4a86a751f6aafbd43c52",
       "IPY_MODEL_485db2b289294ae08a2cb863104720f2"
      ],
      "layout": "IPY_MODEL_006eceb7368e4f6681136c6a0cef6fbe"
     }
    },
    "412beb412b2f4e00a80eb90bc6c9e556": {
     "model_module": "@jupyter-widgets/controls",
     "model_name": "HTMLModel",
     "model_module_version": "1.5.0",
     "state": {
      "_dom_classes": [],
      "_model_module": "@jupyter-widgets/controls",
      "_model_module_version": "1.5.0",
      "_model_name": "HTMLModel",
      "_view_count": null,
      "_view_module": "@jupyter-widgets/controls",
      "_view_module_version": "1.5.0",
      "_view_name": "HTMLView",
      "description": "",
      "description_tooltip": null,
      "layout": "IPY_MODEL_51789cd64ca34eb5954ba46ef8440687",
      "placeholder": "​",
      "style": "IPY_MODEL_2402d89e597d4b04aa4a64c2d9c098fe",
      "value": "Downloading: 100%"
     }
    },
    "0561ae3a945b4a86a751f6aafbd43c52": {
     "model_module": "@jupyter-widgets/controls",
     "model_name": "FloatProgressModel",
     "model_module_version": "1.5.0",
     "state": {
      "_dom_classes": [],
      "_model_module": "@jupyter-widgets/controls",
      "_model_module_version": "1.5.0",
      "_model_name": "FloatProgressModel",
      "_view_count": null,
      "_view_module": "@jupyter-widgets/controls",
      "_view_module_version": "1.5.0",
      "_view_name": "ProgressView",
      "bar_style": "success",
      "description": "",
      "description_tooltip": null,
      "layout": "IPY_MODEL_eda4e641b9e84129a21fbbe16f91199b",
      "max": 440473133,
      "min": 0,
      "orientation": "horizontal",
      "style": "IPY_MODEL_a8307e24264b4906ac1915c45c1769e3",
      "value": 440473133
     }
    },
    "485db2b289294ae08a2cb863104720f2": {
     "model_module": "@jupyter-widgets/controls",
     "model_name": "HTMLModel",
     "model_module_version": "1.5.0",
     "state": {
      "_dom_classes": [],
      "_model_module": "@jupyter-widgets/controls",
      "_model_module_version": "1.5.0",
      "_model_name": "HTMLModel",
      "_view_count": null,
      "_view_module": "@jupyter-widgets/controls",
      "_view_module_version": "1.5.0",
      "_view_name": "HTMLView",
      "description": "",
      "description_tooltip": null,
      "layout": "IPY_MODEL_97597b24e7ad4a358b280f7c61116c49",
      "placeholder": "​",
      "style": "IPY_MODEL_b9ff2db211204765b656d827bc5e7f86",
      "value": " 440M/440M [00:21&lt;00:00, 39.5MB/s]"
     }
    },
    "006eceb7368e4f6681136c6a0cef6fbe": {
     "model_module": "@jupyter-widgets/base",
     "model_name": "LayoutModel",
     "model_module_version": "1.2.0",
     "state": {
      "_model_module": "@jupyter-widgets/base",
      "_model_module_version": "1.2.0",
      "_model_name": "LayoutModel",
      "_view_count": null,
      "_view_module": "@jupyter-widgets/base",
      "_view_module_version": "1.2.0",
      "_view_name": "LayoutView",
      "align_content": null,
      "align_items": null,
      "align_self": null,
      "border": null,
      "bottom": null,
      "display": null,
      "flex": null,
      "flex_flow": null,
      "grid_area": null,
      "grid_auto_columns": null,
      "grid_auto_flow": null,
      "grid_auto_rows": null,
      "grid_column": null,
      "grid_gap": null,
      "grid_row": null,
      "grid_template_areas": null,
      "grid_template_columns": null,
      "grid_template_rows": null,
      "height": null,
      "justify_content": null,
      "justify_items": null,
      "left": null,
      "margin": null,
      "max_height": null,
      "max_width": null,
      "min_height": null,
      "min_width": null,
      "object_fit": null,
      "object_position": null,
      "order": null,
      "overflow": null,
      "overflow_x": null,
      "overflow_y": null,
      "padding": null,
      "right": null,
      "top": null,
      "visibility": null,
      "width": null
     }
    },
    "51789cd64ca34eb5954ba46ef8440687": {
     "model_module": "@jupyter-widgets/base",
     "model_name": "LayoutModel",
     "model_module_version": "1.2.0",
     "state": {
      "_model_module": "@jupyter-widgets/base",
      "_model_module_version": "1.2.0",
      "_model_name": "LayoutModel",
      "_view_count": null,
      "_view_module": "@jupyter-widgets/base",
      "_view_module_version": "1.2.0",
      "_view_name": "LayoutView",
      "align_content": null,
      "align_items": null,
      "align_self": null,
      "border": null,
      "bottom": null,
      "display": null,
      "flex": null,
      "flex_flow": null,
      "grid_area": null,
      "grid_auto_columns": null,
      "grid_auto_flow": null,
      "grid_auto_rows": null,
      "grid_column": null,
      "grid_gap": null,
      "grid_row": null,
      "grid_template_areas": null,
      "grid_template_columns": null,
      "grid_template_rows": null,
      "height": null,
      "justify_content": null,
      "justify_items": null,
      "left": null,
      "margin": null,
      "max_height": null,
      "max_width": null,
      "min_height": null,
      "min_width": null,
      "object_fit": null,
      "object_position": null,
      "order": null,
      "overflow": null,
      "overflow_x": null,
      "overflow_y": null,
      "padding": null,
      "right": null,
      "top": null,
      "visibility": null,
      "width": null
     }
    },
    "2402d89e597d4b04aa4a64c2d9c098fe": {
     "model_module": "@jupyter-widgets/controls",
     "model_name": "DescriptionStyleModel",
     "model_module_version": "1.5.0",
     "state": {
      "_model_module": "@jupyter-widgets/controls",
      "_model_module_version": "1.5.0",
      "_model_name": "DescriptionStyleModel",
      "_view_count": null,
      "_view_module": "@jupyter-widgets/base",
      "_view_module_version": "1.2.0",
      "_view_name": "StyleView",
      "description_width": ""
     }
    },
    "eda4e641b9e84129a21fbbe16f91199b": {
     "model_module": "@jupyter-widgets/base",
     "model_name": "LayoutModel",
     "model_module_version": "1.2.0",
     "state": {
      "_model_module": "@jupyter-widgets/base",
      "_model_module_version": "1.2.0",
      "_model_name": "LayoutModel",
      "_view_count": null,
      "_view_module": "@jupyter-widgets/base",
      "_view_module_version": "1.2.0",
      "_view_name": "LayoutView",
      "align_content": null,
      "align_items": null,
      "align_self": null,
      "border": null,
      "bottom": null,
      "display": null,
      "flex": null,
      "flex_flow": null,
      "grid_area": null,
      "grid_auto_columns": null,
      "grid_auto_flow": null,
      "grid_auto_rows": null,
      "grid_column": null,
      "grid_gap": null,
      "grid_row": null,
      "grid_template_areas": null,
      "grid_template_columns": null,
      "grid_template_rows": null,
      "height": null,
      "justify_content": null,
      "justify_items": null,
      "left": null,
      "margin": null,
      "max_height": null,
      "max_width": null,
      "min_height": null,
      "min_width": null,
      "object_fit": null,
      "object_position": null,
      "order": null,
      "overflow": null,
      "overflow_x": null,
      "overflow_y": null,
      "padding": null,
      "right": null,
      "top": null,
      "visibility": null,
      "width": null
     }
    },
    "a8307e24264b4906ac1915c45c1769e3": {
     "model_module": "@jupyter-widgets/controls",
     "model_name": "ProgressStyleModel",
     "model_module_version": "1.5.0",
     "state": {
      "_model_module": "@jupyter-widgets/controls",
      "_model_module_version": "1.5.0",
      "_model_name": "ProgressStyleModel",
      "_view_count": null,
      "_view_module": "@jupyter-widgets/base",
      "_view_module_version": "1.2.0",
      "_view_name": "StyleView",
      "bar_color": null,
      "description_width": ""
     }
    },
    "97597b24e7ad4a358b280f7c61116c49": {
     "model_module": "@jupyter-widgets/base",
     "model_name": "LayoutModel",
     "model_module_version": "1.2.0",
     "state": {
      "_model_module": "@jupyter-widgets/base",
      "_model_module_version": "1.2.0",
      "_model_name": "LayoutModel",
      "_view_count": null,
      "_view_module": "@jupyter-widgets/base",
      "_view_module_version": "1.2.0",
      "_view_name": "LayoutView",
      "align_content": null,
      "align_items": null,
      "align_self": null,
      "border": null,
      "bottom": null,
      "display": null,
      "flex": null,
      "flex_flow": null,
      "grid_area": null,
      "grid_auto_columns": null,
      "grid_auto_flow": null,
      "grid_auto_rows": null,
      "grid_column": null,
      "grid_gap": null,
      "grid_row": null,
      "grid_template_areas": null,
      "grid_template_columns": null,
      "grid_template_rows": null,
      "height": null,
      "justify_content": null,
      "justify_items": null,
      "left": null,
      "margin": null,
      "max_height": null,
      "max_width": null,
      "min_height": null,
      "min_width": null,
      "object_fit": null,
      "object_position": null,
      "order": null,
      "overflow": null,
      "overflow_x": null,
      "overflow_y": null,
      "padding": null,
      "right": null,
      "top": null,
      "visibility": null,
      "width": null
     }
    },
    "b9ff2db211204765b656d827bc5e7f86": {
     "model_module": "@jupyter-widgets/controls",
     "model_name": "DescriptionStyleModel",
     "model_module_version": "1.5.0",
     "state": {
      "_model_module": "@jupyter-widgets/controls",
      "_model_module_version": "1.5.0",
      "_model_name": "DescriptionStyleModel",
      "_view_count": null,
      "_view_module": "@jupyter-widgets/base",
      "_view_module_version": "1.2.0",
      "_view_name": "StyleView",
      "description_width": ""
     }
    }
   }
  }
 },
 "nbformat": 4,
 "nbformat_minor": 0
}
