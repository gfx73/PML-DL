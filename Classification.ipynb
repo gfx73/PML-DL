{
 "cells": [
  {
   "cell_type": "markdown",
   "metadata": {
    "colab_type": "text",
    "id": "view-in-github"
   },
   "source": [
    "<a href=\"https://colab.research.google.com/github/gfx73/PML-DL/blob/main/Classification.ipynb\" target=\"_parent\"><img src=\"https://colab.research.google.com/assets/colab-badge.svg\" alt=\"Open In Colab\"/></a>"
   ]
  },
  {
   "cell_type": "code",
   "execution_count": 1,
   "metadata": {
    "colab": {
     "base_uri": "https://localhost:8080/"
    },
    "id": "AD-HO1iDuN8y",
    "outputId": "99fc2fa3-e269-43cf-9ee6-e5ea6531845e"
   },
   "outputs": [
    {
     "name": "stdout",
     "output_type": "stream",
     "text": [
      "Requirement already satisfied: allennlp in e:\\programs\\anaconda\\envs\\pmldl\\lib\\site-packages (2.10.1)\n",
      "Requirement already satisfied: termcolor==1.1.0 in e:\\programs\\anaconda\\envs\\pmldl\\lib\\site-packages (from allennlp) (1.1.0)\n",
      "Requirement already satisfied: tensorboardX>=1.2 in e:\\programs\\anaconda\\envs\\pmldl\\lib\\site-packages (from allennlp) (2.5.1)\n",
      "Requirement already satisfied: h5py>=3.6.0 in e:\\programs\\anaconda\\envs\\pmldl\\lib\\site-packages (from allennlp) (3.7.0)\n",
      "Requirement already satisfied: tqdm>=4.62 in e:\\programs\\anaconda\\envs\\pmldl\\lib\\site-packages (from allennlp) (4.64.1)\n",
      "Requirement already satisfied: numpy>=1.21.4 in e:\\programs\\anaconda\\envs\\pmldl\\lib\\site-packages (from allennlp) (1.23.4)\n",
      "Requirement already satisfied: sacremoses in e:\\programs\\anaconda\\envs\\pmldl\\lib\\site-packages (from allennlp) (0.0.53)\n",
      "Requirement already satisfied: transformers<4.21,>=4.1 in e:\\programs\\anaconda\\envs\\pmldl\\lib\\site-packages (from allennlp) (4.20.1)\n",
      "Requirement already satisfied: scikit-learn>=1.0.1 in e:\\programs\\anaconda\\envs\\pmldl\\lib\\site-packages (from allennlp) (1.1.3)\n",
      "Requirement already satisfied: lmdb>=1.2.1 in e:\\programs\\anaconda\\envs\\pmldl\\lib\\site-packages (from allennlp) (1.3.0)\n",
      "Requirement already satisfied: huggingface-hub>=0.0.16 in e:\\programs\\anaconda\\envs\\pmldl\\lib\\site-packages (from allennlp) (0.10.1)\n",
      "Requirement already satisfied: scipy>=1.7.3 in e:\\programs\\anaconda\\envs\\pmldl\\lib\\site-packages (from allennlp) (1.9.3)\n",
      "Requirement already satisfied: base58>=2.1.1 in e:\\programs\\anaconda\\envs\\pmldl\\lib\\site-packages (from allennlp) (2.1.1)\n",
      "Requirement already satisfied: filelock<3.8,>=3.3 in e:\\programs\\anaconda\\envs\\pmldl\\lib\\site-packages (from allennlp) (3.7.1)\n",
      "Requirement already satisfied: spacy<3.4,>=2.1.0 in e:\\programs\\anaconda\\envs\\pmldl\\lib\\site-packages (from allennlp) (3.3.1)\n",
      "Requirement already satisfied: sentencepiece>=0.1.96 in e:\\programs\\anaconda\\envs\\pmldl\\lib\\site-packages (from allennlp) (0.1.97)\n",
      "Requirement already satisfied: requests>=2.28 in e:\\programs\\anaconda\\envs\\pmldl\\lib\\site-packages (from allennlp) (2.28.1)\n",
      "Requirement already satisfied: nltk>=3.6.5 in e:\\programs\\anaconda\\envs\\pmldl\\lib\\site-packages (from allennlp) (3.7)\n",
      "Requirement already satisfied: typer>=0.4.1 in e:\\programs\\anaconda\\envs\\pmldl\\lib\\site-packages (from allennlp) (0.4.2)\n",
      "Requirement already satisfied: protobuf<4.0.0,>=3.12.0 in e:\\programs\\anaconda\\envs\\pmldl\\lib\\site-packages (from allennlp) (3.19.6)\n",
      "Requirement already satisfied: pytest>=6.2.5 in e:\\programs\\anaconda\\envs\\pmldl\\lib\\site-packages (from allennlp) (7.2.0)\n",
      "Requirement already satisfied: wandb<0.13.0,>=0.10.0 in e:\\programs\\anaconda\\envs\\pmldl\\lib\\site-packages (from allennlp) (0.12.21)\n",
      "Requirement already satisfied: traitlets>5.1.1 in e:\\programs\\anaconda\\envs\\pmldl\\lib\\site-packages (from allennlp) (5.5.0)\n",
      "Requirement already satisfied: more-itertools>=8.12.0 in e:\\programs\\anaconda\\envs\\pmldl\\lib\\site-packages (from allennlp) (9.0.0)\n",
      "Requirement already satisfied: dill>=0.3.4 in e:\\programs\\anaconda\\envs\\pmldl\\lib\\site-packages (from allennlp) (0.3.6)\n",
      "Requirement already satisfied: fairscale==0.4.6 in e:\\programs\\anaconda\\envs\\pmldl\\lib\\site-packages (from allennlp) (0.4.6)\n",
      "Requirement already satisfied: cached-path<1.2.0,>=1.1.3 in e:\\programs\\anaconda\\envs\\pmldl\\lib\\site-packages (from allennlp) (1.1.6)\n",
      "Requirement already satisfied: torchvision<0.14.0,>=0.8.1 in e:\\programs\\anaconda\\envs\\pmldl\\lib\\site-packages (from allennlp) (0.13.1+cu113)\n",
      "Requirement already satisfied: torch<1.13.0,>=1.10.0 in e:\\programs\\anaconda\\envs\\pmldl\\lib\\site-packages (from allennlp) (1.12.1+cu113)\n",
      "Requirement already satisfied: google-cloud-storage<3.0,>=1.32.0 in e:\\programs\\anaconda\\envs\\pmldl\\lib\\site-packages (from cached-path<1.2.0,>=1.1.3->allennlp) (2.5.0)\n",
      "Requirement already satisfied: boto3<2.0,>=1.0 in e:\\programs\\anaconda\\envs\\pmldl\\lib\\site-packages (from cached-path<1.2.0,>=1.1.3->allennlp) (1.25.4)\n",
      "Requirement already satisfied: rich<13.0,>=12.1 in e:\\programs\\anaconda\\envs\\pmldl\\lib\\site-packages (from cached-path<1.2.0,>=1.1.3->allennlp) (12.6.0)\n",
      "Requirement already satisfied: packaging>=20.9 in e:\\programs\\anaconda\\envs\\pmldl\\lib\\site-packages (from huggingface-hub>=0.0.16->allennlp) (21.3)\n",
      "Requirement already satisfied: typing-extensions>=3.7.4.3 in e:\\programs\\anaconda\\envs\\pmldl\\lib\\site-packages (from huggingface-hub>=0.0.16->allennlp) (4.3.0)\n",
      "Requirement already satisfied: pyyaml>=5.1 in e:\\programs\\anaconda\\envs\\pmldl\\lib\\site-packages (from huggingface-hub>=0.0.16->allennlp) (6.0)\n",
      "Requirement already satisfied: joblib in e:\\programs\\anaconda\\envs\\pmldl\\lib\\site-packages (from nltk>=3.6.5->allennlp) (1.2.0)\n",
      "Requirement already satisfied: regex>=2021.8.3 in e:\\programs\\anaconda\\envs\\pmldl\\lib\\site-packages (from nltk>=3.6.5->allennlp) (2022.9.13)\n",
      "Requirement already satisfied: click in e:\\programs\\anaconda\\envs\\pmldl\\lib\\site-packages (from nltk>=3.6.5->allennlp) (8.1.3)\n",
      "Requirement already satisfied: colorama in e:\\programs\\anaconda\\envs\\pmldl\\lib\\site-packages (from pytest>=6.2.5->allennlp) (0.4.5)\n",
      "Requirement already satisfied: pluggy<2.0,>=0.12 in e:\\programs\\anaconda\\envs\\pmldl\\lib\\site-packages (from pytest>=6.2.5->allennlp) (1.0.0)\n",
      "Requirement already satisfied: attrs>=19.2.0 in e:\\programs\\anaconda\\envs\\pmldl\\lib\\site-packages (from pytest>=6.2.5->allennlp) (21.4.0)\n",
      "Requirement already satisfied: exceptiongroup>=1.0.0rc8 in e:\\programs\\anaconda\\envs\\pmldl\\lib\\site-packages (from pytest>=6.2.5->allennlp) (1.0.0)\n",
      "Requirement already satisfied: tomli>=1.0.0 in e:\\programs\\anaconda\\envs\\pmldl\\lib\\site-packages (from pytest>=6.2.5->allennlp) (2.0.1)\n",
      "Requirement already satisfied: iniconfig in e:\\programs\\anaconda\\envs\\pmldl\\lib\\site-packages (from pytest>=6.2.5->allennlp) (1.1.1)\n",
      "Requirement already satisfied: idna<4,>=2.5 in e:\\programs\\anaconda\\envs\\pmldl\\lib\\site-packages (from requests>=2.28->allennlp) (3.4)\n",
      "Requirement already satisfied: urllib3<1.27,>=1.21.1 in e:\\programs\\anaconda\\envs\\pmldl\\lib\\site-packages (from requests>=2.28->allennlp) (1.26.12)\n",
      "Requirement already satisfied: charset-normalizer<3,>=2 in e:\\programs\\anaconda\\envs\\pmldl\\lib\\site-packages (from requests>=2.28->allennlp) (2.0.4)\n",
      "Requirement already satisfied: certifi>=2017.4.17 in e:\\programs\\anaconda\\envs\\pmldl\\lib\\site-packages (from requests>=2.28->allennlp) (2022.9.24)\n",
      "Requirement already satisfied: threadpoolctl>=2.0.0 in e:\\programs\\anaconda\\envs\\pmldl\\lib\\site-packages (from scikit-learn>=1.0.1->allennlp) (3.1.0)\n",
      "Requirement already satisfied: thinc<8.1.0,>=8.0.14 in e:\\programs\\anaconda\\envs\\pmldl\\lib\\site-packages (from spacy<3.4,>=2.1.0->allennlp) (8.0.17)\n",
      "Requirement already satisfied: srsly<3.0.0,>=2.4.3 in e:\\programs\\anaconda\\envs\\pmldl\\lib\\site-packages (from spacy<3.4,>=2.1.0->allennlp) (2.4.5)\n",
      "Requirement already satisfied: pathy>=0.3.5 in e:\\programs\\anaconda\\envs\\pmldl\\lib\\site-packages (from spacy<3.4,>=2.1.0->allennlp) (0.6.2)\n",
      "Requirement already satisfied: wasabi<1.1.0,>=0.9.1 in e:\\programs\\anaconda\\envs\\pmldl\\lib\\site-packages (from spacy<3.4,>=2.1.0->allennlp) (0.10.1)\n",
      "Requirement already satisfied: blis<0.8.0,>=0.4.0 in e:\\programs\\anaconda\\envs\\pmldl\\lib\\site-packages (from spacy<3.4,>=2.1.0->allennlp) (0.7.9)\n",
      "Requirement already satisfied: langcodes<4.0.0,>=3.2.0 in e:\\programs\\anaconda\\envs\\pmldl\\lib\\site-packages (from spacy<3.4,>=2.1.0->allennlp) (3.3.0)\n",
      "Requirement already satisfied: spacy-legacy<3.1.0,>=3.0.9 in e:\\programs\\anaconda\\envs\\pmldl\\lib\\site-packages (from spacy<3.4,>=2.1.0->allennlp) (3.0.10)\n",
      "Requirement already satisfied: cymem<2.1.0,>=2.0.2 in e:\\programs\\anaconda\\envs\\pmldl\\lib\\site-packages (from spacy<3.4,>=2.1.0->allennlp) (2.0.7)\n",
      "Requirement already satisfied: spacy-loggers<2.0.0,>=1.0.0 in e:\\programs\\anaconda\\envs\\pmldl\\lib\\site-packages (from spacy<3.4,>=2.1.0->allennlp) (1.0.3)\n",
      "Requirement already satisfied: murmurhash<1.1.0,>=0.28.0 in e:\\programs\\anaconda\\envs\\pmldl\\lib\\site-packages (from spacy<3.4,>=2.1.0->allennlp) (1.0.9)\n",
      "Requirement already satisfied: preshed<3.1.0,>=3.0.2 in e:\\programs\\anaconda\\envs\\pmldl\\lib\\site-packages (from spacy<3.4,>=2.1.0->allennlp) (3.0.8)\n",
      "Requirement already satisfied: setuptools in e:\\programs\\anaconda\\envs\\pmldl\\lib\\site-packages (from spacy<3.4,>=2.1.0->allennlp) (65.4.0)\n",
      "Requirement already satisfied: catalogue<2.1.0,>=2.0.6 in e:\\programs\\anaconda\\envs\\pmldl\\lib\\site-packages (from spacy<3.4,>=2.1.0->allennlp) (2.0.8)\n",
      "Requirement already satisfied: pydantic!=1.8,!=1.8.1,<1.9.0,>=1.7.4 in e:\\programs\\anaconda\\envs\\pmldl\\lib\\site-packages (from spacy<3.4,>=2.1.0->allennlp) (1.8.2)\n",
      "Requirement already satisfied: jinja2 in e:\\programs\\anaconda\\envs\\pmldl\\lib\\site-packages (from spacy<3.4,>=2.1.0->allennlp) (3.1.2)\n",
      "Requirement already satisfied: pillow!=8.3.*,>=5.3.0 in e:\\programs\\anaconda\\envs\\pmldl\\lib\\site-packages (from torchvision<0.14.0,>=0.8.1->allennlp) (9.3.0)\n",
      "Requirement already satisfied: tokenizers!=0.11.3,<0.13,>=0.11.1 in e:\\programs\\anaconda\\envs\\pmldl\\lib\\site-packages (from transformers<4.21,>=4.1->allennlp) (0.12.1)\n",
      "Requirement already satisfied: six>=1.13.0 in e:\\programs\\anaconda\\envs\\pmldl\\lib\\site-packages (from wandb<0.13.0,>=0.10.0->allennlp) (1.16.0)\n",
      "Requirement already satisfied: psutil>=5.0.0 in e:\\programs\\anaconda\\envs\\pmldl\\lib\\site-packages (from wandb<0.13.0,>=0.10.0->allennlp) (5.9.0)\n",
      "Requirement already satisfied: shortuuid>=0.5.0 in e:\\programs\\anaconda\\envs\\pmldl\\lib\\site-packages (from wandb<0.13.0,>=0.10.0->allennlp) (1.0.9)\n",
      "Requirement already satisfied: sentry-sdk>=1.0.0 in e:\\programs\\anaconda\\envs\\pmldl\\lib\\site-packages (from wandb<0.13.0,>=0.10.0->allennlp) (1.10.1)\n",
      "Requirement already satisfied: GitPython>=1.0.0 in e:\\programs\\anaconda\\envs\\pmldl\\lib\\site-packages (from wandb<0.13.0,>=0.10.0->allennlp) (3.1.29)\n",
      "Requirement already satisfied: pathtools in e:\\programs\\anaconda\\envs\\pmldl\\lib\\site-packages (from wandb<0.13.0,>=0.10.0->allennlp) (0.1.2)\n",
      "Requirement already satisfied: promise<3,>=2.0 in e:\\programs\\anaconda\\envs\\pmldl\\lib\\site-packages (from wandb<0.13.0,>=0.10.0->allennlp) (2.3)\n",
      "Requirement already satisfied: docker-pycreds>=0.4.0 in e:\\programs\\anaconda\\envs\\pmldl\\lib\\site-packages (from wandb<0.13.0,>=0.10.0->allennlp) (0.4.0)\n",
      "Requirement already satisfied: setproctitle in e:\\programs\\anaconda\\envs\\pmldl\\lib\\site-packages (from wandb<0.13.0,>=0.10.0->allennlp) (1.3.2)\n",
      "Requirement already satisfied: s3transfer<0.7.0,>=0.6.0 in e:\\programs\\anaconda\\envs\\pmldl\\lib\\site-packages (from boto3<2.0,>=1.0->cached-path<1.2.0,>=1.1.3->allennlp) (0.6.0)\n",
      "Requirement already satisfied: botocore<1.29.0,>=1.28.4 in e:\\programs\\anaconda\\envs\\pmldl\\lib\\site-packages (from boto3<2.0,>=1.0->cached-path<1.2.0,>=1.1.3->allennlp) (1.28.4)\n",
      "Requirement already satisfied: jmespath<2.0.0,>=0.7.1 in e:\\programs\\anaconda\\envs\\pmldl\\lib\\site-packages (from boto3<2.0,>=1.0->cached-path<1.2.0,>=1.1.3->allennlp) (1.0.1)\n",
      "Requirement already satisfied: gitdb<5,>=4.0.1 in e:\\programs\\anaconda\\envs\\pmldl\\lib\\site-packages (from GitPython>=1.0.0->wandb<0.13.0,>=0.10.0->allennlp) (4.0.9)\n",
      "Requirement already satisfied: google-auth<3.0dev,>=1.25.0 in e:\\programs\\anaconda\\envs\\pmldl\\lib\\site-packages (from google-cloud-storage<3.0,>=1.32.0->cached-path<1.2.0,>=1.1.3->allennlp) (2.13.0)\n",
      "Requirement already satisfied: google-resumable-media>=2.3.2 in e:\\programs\\anaconda\\envs\\pmldl\\lib\\site-packages (from google-cloud-storage<3.0,>=1.32.0->cached-path<1.2.0,>=1.1.3->allennlp) (2.4.0)\n",
      "Requirement already satisfied: google-cloud-core<3.0dev,>=2.3.0 in e:\\programs\\anaconda\\envs\\pmldl\\lib\\site-packages (from google-cloud-storage<3.0,>=1.32.0->cached-path<1.2.0,>=1.1.3->allennlp) (2.3.2)\n",
      "Requirement already satisfied: google-api-core!=2.0.*,!=2.1.*,!=2.2.*,!=2.3.0,<3.0.0dev,>=1.31.5 in e:\\programs\\anaconda\\envs\\pmldl\\lib\\site-packages (from google-cloud-storage<3.0,>=1.32.0->cached-path<1.2.0,>=1.1.3->allennlp) (2.10.2)\n",
      "Requirement already satisfied: pyparsing!=3.0.5,>=2.0.2 in e:\\programs\\anaconda\\envs\\pmldl\\lib\\site-packages (from packaging>=20.9->huggingface-hub>=0.0.16->allennlp) (3.0.9)\n",
      "Requirement already satisfied: smart-open<6.0.0,>=5.2.1 in e:\\programs\\anaconda\\envs\\pmldl\\lib\\site-packages (from pathy>=0.3.5->spacy<3.4,>=2.1.0->allennlp) (5.2.1)\n",
      "Requirement already satisfied: commonmark<0.10.0,>=0.9.0 in e:\\programs\\anaconda\\envs\\pmldl\\lib\\site-packages (from rich<13.0,>=12.1->cached-path<1.2.0,>=1.1.3->allennlp) (0.9.1)\n",
      "Requirement already satisfied: pygments<3.0.0,>=2.6.0 in e:\\programs\\anaconda\\envs\\pmldl\\lib\\site-packages (from rich<13.0,>=12.1->cached-path<1.2.0,>=1.1.3->allennlp) (2.11.2)\n",
      "Requirement already satisfied: MarkupSafe>=2.0 in e:\\programs\\anaconda\\envs\\pmldl\\lib\\site-packages (from jinja2->spacy<3.4,>=2.1.0->allennlp) (2.1.1)\n",
      "Requirement already satisfied: python-dateutil<3.0.0,>=2.1 in e:\\programs\\anaconda\\envs\\pmldl\\lib\\site-packages (from botocore<1.29.0,>=1.28.4->boto3<2.0,>=1.0->cached-path<1.2.0,>=1.1.3->allennlp) (2.8.2)\n",
      "Requirement already satisfied: smmap<6,>=3.0.1 in e:\\programs\\anaconda\\envs\\pmldl\\lib\\site-packages (from gitdb<5,>=4.0.1->GitPython>=1.0.0->wandb<0.13.0,>=0.10.0->allennlp) (5.0.0)\n",
      "Requirement already satisfied: googleapis-common-protos<2.0dev,>=1.56.2 in e:\\programs\\anaconda\\envs\\pmldl\\lib\\site-packages (from google-api-core!=2.0.*,!=2.1.*,!=2.2.*,!=2.3.0,<3.0.0dev,>=1.31.5->google-cloud-storage<3.0,>=1.32.0->cached-path<1.2.0,>=1.1.3->allennlp) (1.56.4)\n",
      "Requirement already satisfied: cachetools<6.0,>=2.0.0 in e:\\programs\\anaconda\\envs\\pmldl\\lib\\site-packages (from google-auth<3.0dev,>=1.25.0->google-cloud-storage<3.0,>=1.32.0->cached-path<1.2.0,>=1.1.3->allennlp) (5.2.0)\n",
      "Requirement already satisfied: rsa<5,>=3.1.4 in e:\\programs\\anaconda\\envs\\pmldl\\lib\\site-packages (from google-auth<3.0dev,>=1.25.0->google-cloud-storage<3.0,>=1.32.0->cached-path<1.2.0,>=1.1.3->allennlp) (4.9)\n",
      "Requirement already satisfied: pyasn1-modules>=0.2.1 in e:\\programs\\anaconda\\envs\\pmldl\\lib\\site-packages (from google-auth<3.0dev,>=1.25.0->google-cloud-storage<3.0,>=1.32.0->cached-path<1.2.0,>=1.1.3->allennlp) (0.2.8)\n",
      "Requirement already satisfied: google-crc32c<2.0dev,>=1.0 in e:\\programs\\anaconda\\envs\\pmldl\\lib\\site-packages (from google-resumable-media>=2.3.2->google-cloud-storage<3.0,>=1.32.0->cached-path<1.2.0,>=1.1.3->allennlp) (1.5.0)\n",
      "Requirement already satisfied: pyasn1<0.5.0,>=0.4.6 in e:\\programs\\anaconda\\envs\\pmldl\\lib\\site-packages (from pyasn1-modules>=0.2.1->google-auth<3.0dev,>=1.25.0->google-cloud-storage<3.0,>=1.32.0->cached-path<1.2.0,>=1.1.3->allennlp) (0.4.8)\n"
     ]
    }
   ],
   "source": [
    "!pip install allennlp"
   ]
  },
  {
   "cell_type": "code",
   "execution_count": 2,
   "metadata": {
    "colab": {
     "base_uri": "https://localhost:8080/"
    },
    "id": "H8OFl6YZUbxK",
    "outputId": "0a3f2ca5-5996-40a8-ae08-b52eb994b630"
   },
   "outputs": [
    {
     "name": "stdout",
     "output_type": "stream",
     "text": [
      "Looking in indexes: https://pypi.org/simple, https://download.pytorch.org/whl/cu113\n",
      "Requirement already satisfied: torch==1.12.1+cu113 in e:\\programs\\anaconda\\envs\\pmldl\\lib\\site-packages (1.12.1+cu113)\n",
      "Requirement already satisfied: torchvision==0.13.1+cu113 in e:\\programs\\anaconda\\envs\\pmldl\\lib\\site-packages (0.13.1+cu113)\n",
      "Requirement already satisfied: torchaudio==0.12.1 in e:\\programs\\anaconda\\envs\\pmldl\\lib\\site-packages (0.12.1+cu113)\n",
      "Requirement already satisfied: torchdata==0.4.1 in e:\\programs\\anaconda\\envs\\pmldl\\lib\\site-packages (0.4.1)\n",
      "Requirement already satisfied: torchtext==0.13.1 in e:\\programs\\anaconda\\envs\\pmldl\\lib\\site-packages (0.13.1)\n",
      "Requirement already satisfied: typing-extensions in e:\\programs\\anaconda\\envs\\pmldl\\lib\\site-packages (from torch==1.12.1+cu113) (4.3.0)\n",
      "Requirement already satisfied: numpy in e:\\programs\\anaconda\\envs\\pmldl\\lib\\site-packages (from torchvision==0.13.1+cu113) (1.23.4)\n",
      "Requirement already satisfied: pillow!=8.3.*,>=5.3.0 in e:\\programs\\anaconda\\envs\\pmldl\\lib\\site-packages (from torchvision==0.13.1+cu113) (9.3.0)\n",
      "Requirement already satisfied: requests in e:\\programs\\anaconda\\envs\\pmldl\\lib\\site-packages (from torchvision==0.13.1+cu113) (2.28.1)\n",
      "Requirement already satisfied: portalocker>=2.0.0 in e:\\programs\\anaconda\\envs\\pmldl\\lib\\site-packages (from torchdata==0.4.1) (2.6.0)\n",
      "Requirement already satisfied: urllib3>=1.25 in e:\\programs\\anaconda\\envs\\pmldl\\lib\\site-packages (from torchdata==0.4.1) (1.26.12)\n",
      "Requirement already satisfied: tqdm in e:\\programs\\anaconda\\envs\\pmldl\\lib\\site-packages (from torchtext==0.13.1) (4.64.1)\n",
      "Requirement already satisfied: pywin32>=226 in e:\\programs\\anaconda\\envs\\pmldl\\lib\\site-packages (from portalocker>=2.0.0->torchdata==0.4.1) (302)\n",
      "Requirement already satisfied: charset-normalizer<3,>=2 in e:\\programs\\anaconda\\envs\\pmldl\\lib\\site-packages (from requests->torchvision==0.13.1+cu113) (2.0.4)\n",
      "Requirement already satisfied: certifi>=2017.4.17 in e:\\programs\\anaconda\\envs\\pmldl\\lib\\site-packages (from requests->torchvision==0.13.1+cu113) (2022.9.24)\n",
      "Requirement already satisfied: idna<4,>=2.5 in e:\\programs\\anaconda\\envs\\pmldl\\lib\\site-packages (from requests->torchvision==0.13.1+cu113) (3.4)\n",
      "Requirement already satisfied: colorama in e:\\programs\\anaconda\\envs\\pmldl\\lib\\site-packages (from tqdm->torchtext==0.13.1) (0.4.5)\n"
     ]
    }
   ],
   "source": [
    "!pip install torch==1.12.1+cu113 torchvision==0.13.1+cu113 torchaudio==0.12.1 torchdata==0.4.1 torchtext==0.13.1 --extra-index-url https://download.pytorch.org/whl/cu113"
   ]
  },
  {
   "cell_type": "code",
   "execution_count": 3,
   "outputs": [],
   "source": [
    "import sys\n",
    "IN_COLAB = 'google.colab' in sys.modules\n",
    "TOK_IDS_PRECOMPUTED = False"
   ],
   "metadata": {
    "collapsed": false
   }
  },
  {
   "cell_type": "code",
   "execution_count": null,
   "outputs": [],
   "source": [
    "if IN_COLAB:\n",
    "  from google.colab import drive\n",
    "  drive.mount('/content/drive')"
   ],
   "metadata": {
    "collapsed": false
   }
  },
  {
   "cell_type": "code",
   "execution_count": 4,
   "metadata": {
    "id": "ADLyYv5gTXie"
   },
   "outputs": [],
   "source": [
    "from torchtext.datasets import IMDB\n",
    "\n",
    "IMDB_train_iter, IMDB_test_iter = IMDB()"
   ]
  },
  {
   "cell_type": "code",
   "execution_count": 5,
   "metadata": {
    "id": "MacnAo18Tci1"
   },
   "outputs": [
    {
     "name": "stderr",
     "output_type": "stream",
     "text": [
      "25000it [00:03, 6284.66it/s]\n",
      "25000it [00:03, 6447.88it/s]\n"
     ]
    },
    {
     "data": {
      "text/plain": "0"
     },
     "execution_count": 5,
     "metadata": {},
     "output_type": "execute_result"
    }
   ],
   "source": [
    "from tqdm import tqdm\n",
    "from torchtext.data.utils import get_tokenizer\n",
    "import gc\n",
    "\n",
    "\n",
    "tokenizer = get_tokenizer('basic_english')\n",
    "\n",
    "train_tokens = []\n",
    "train_labels = []\n",
    "for label, text in tqdm(IMDB_train_iter):\n",
    "    train_labels.append(label=='pos')\n",
    "    train_tokens.append(tokenizer(text))\n",
    "\n",
    "test_tokens = []\n",
    "test_labels = []\n",
    "for label, text in tqdm(IMDB_test_iter):\n",
    "    test_labels.append(label=='pos')\n",
    "    test_tokens.append(tokenizer(text))\n",
    "\n",
    "VAL_SIZE = 500\n",
    "val_tokens = test_tokens[:VAL_SIZE]\n",
    "val_labels = test_labels[:VAL_SIZE]\n",
    "test_tokens = test_tokens[VAL_SIZE:]\n",
    "test_labels = test_labels[VAL_SIZE:]\n",
    "del IMDB_train_iter\n",
    "del IMDB_test_iter\n",
    "gc.collect()"
   ]
  },
  {
   "cell_type": "code",
   "execution_count": 6,
   "metadata": {
    "colab": {
     "base_uri": "https://localhost:8080/"
    },
    "id": "mpwit5nSU1hz",
    "outputId": "0a926915-7cb1-4f77-95ba-12bbde1ed1d8"
   },
   "outputs": [
    {
     "name": "stdout",
     "output_type": "stream",
     "text": [
      "2752\n"
     ]
    }
   ],
   "source": [
    "def get_max_len(all_tokens):\n",
    "  max_len = 0\n",
    "  for tokens_split in all_tokens:\n",
    "    for tokens in tokens_split:\n",
    "      max_len = max(max_len, len(tokens))\n",
    "  return max_len\n",
    "\n",
    "\n",
    "max_len = get_max_len((train_tokens, val_tokens, test_tokens))\n",
    "print(max_len)"
   ]
  },
  {
   "cell_type": "code",
   "execution_count": 7,
   "metadata": {
    "id": "VgK8v-gDvn5e"
   },
   "outputs": [
    {
     "name": "stderr",
     "output_type": "stream",
     "text": [
      "100%|██████████| 25000/25000 [07:35<00:00, 54.93it/s]  \n",
      "100%|██████████| 24500/24500 [07:22<00:00, 55.34it/s]  \n",
      "100%|██████████| 500/500 [00:02<00:00, 213.46it/s]\n"
     ]
    }
   ],
   "source": [
    "from allennlp.modules.elmo import Elmo, batch_to_ids\n",
    "import torch\n",
    "\n",
    "\n",
    "def save_tok_ids(all_tokens, max_len, filename_prefix, shard_size=5000):\n",
    "  all_tok_ids = []\n",
    "  for idx, tokens in tqdm(enumerate(all_tokens), total=len(all_tokens)):\n",
    "    tok_ids = (batch_to_ids([tokens])[0])\n",
    "    if tok_ids.shape[0] > max_len:\n",
    "      tok_ids = tok_ids[:max_len,:]\n",
    "    else:\n",
    "      tok_ids = torch.concat((tok_ids, torch.zeros((max_len - tok_ids.shape[0], 50)).type_as(tok_ids)))\n",
    "    all_tok_ids.append(tok_ids)\n",
    "\n",
    "    if (idx + 1) % shard_size == 0 or (idx + 1) == len(all_tokens):\n",
    "      torch.save(all_tok_ids, f\"{filename_prefix}{idx // shard_size}.pt\")\n",
    "      del all_tok_ids\n",
    "      gc.collect()\n",
    "      all_tok_ids = []\n",
    "  return all_tok_ids\n",
    "\n",
    "train_filename_prefix = 'train_tok_ids'\n",
    "test_filename_prefix = 'test_tok_ids'\n",
    "val_filename_prefix = 'val_tok_ids'\n",
    "\n",
    "if not TOK_IDS_PRECOMPUTED:\n",
    "  train_tok_ids = save_tok_ids(train_tokens, max_len, train_filename_prefix)\n",
    "  del train_tokens\n",
    "  gc.collect()\n",
    "\n",
    "  test_tok_ids = save_tok_ids(test_tokens, max_len, test_filename_prefix)\n",
    "  del test_tokens\n",
    "  gc.collect()\n",
    "\n",
    "  val_tok_ids = save_tok_ids(val_tokens, max_len, val_filename_prefix)\n",
    "  del val_tokens\n",
    "  gc.collect()\n"
   ]
  },
  {
   "cell_type": "code",
   "execution_count": 8,
   "outputs": [],
   "source": [
    "from torch.utils.data import Dataset, DataLoader\n",
    "device = \"cuda\" if torch.cuda.is_available() else \"cpu\"\n",
    "\n",
    "class dataset(Dataset):\n",
    "  def __init__(self, labels, filename_prefix, shard_size=5000):\n",
    "    self.labels = torch.tensor(labels, dtype=torch.float32)\n",
    "    self.length = self.labels.shape[0]\n",
    "    self.filename_prefix = filename_prefix\n",
    "    self.shard_size=shard_size\n",
    "    self.cur_shard = None\n",
    "    self.cur_shard_idx = None\n",
    "\n",
    "  def __getitem__(self, idx):\n",
    "    tok_ids = self.__get_tok_ids__(idx)\n",
    "    return tok_ids.to(device), self.labels[idx].to(device)\n",
    "\n",
    "  def __get_tok_ids__(self, idx):\n",
    "    self.__reload_shard__(idx)\n",
    "    return self.cur_shard[idx % self.shard_size]\n",
    "\n",
    "  def __reload_shard__(self, idx):\n",
    "    shard_idx = idx // self.shard_size\n",
    "    if self.cur_shard_idx == shard_idx:\n",
    "      return\n",
    "    self.cur_shard = torch.load(f\"{self.filename_prefix}{shard_idx}.pt\")\n",
    "    self.cur_shard_idx = shard_idx\n",
    "\n",
    "  def __len__(self):\n",
    "    return self.length\n",
    "\n",
    "train_filename_prefix = 'train_tok_ids'\n",
    "test_filename_prefix = 'test_tok_ids'\n",
    "val_filename_prefix = 'val_tok_ids'\n",
    "trainset = dataset(train_labels, train_filename_prefix)\n",
    "valset = dataset(val_labels, val_filename_prefix)\n",
    "testset = dataset(test_labels, test_filename_prefix)\n",
    "\n",
    "BATCH_SIZE = 7\n",
    "trainloader = DataLoader(trainset, batch_size=BATCH_SIZE, shuffle=False)\n",
    "valloader = DataLoader(valset, batch_size=BATCH_SIZE, shuffle=False)\n",
    "testloader = DataLoader(testset, batch_size=BATCH_SIZE, shuffle=False)"
   ],
   "metadata": {
    "collapsed": false
   }
  },
  {
   "cell_type": "code",
   "execution_count": 9,
   "metadata": {
    "id": "6kW_R9PkXrdz"
   },
   "outputs": [],
   "source": [
    "# from allennlp.modules.elmo import Elmo, batch_to_ids\n",
    "# from torch.utils.data import Dataset, DataLoader\n",
    "# device = \"cuda\" if torch.cuda.is_available() else \"cpu\"\n",
    "#\n",
    "# class dataset(Dataset):\n",
    "#   def __init__(self, tokens, labels, batch_to_ids, max_len):\n",
    "#     self.tokens = tokens\n",
    "#     self.labels = torch.tensor(labels, dtype=torch.float32)\n",
    "#     self.length = self.labels.shape[0]\n",
    "#     self.batch_to_ids = batch_to_ids\n",
    "#     self.max_len = max_len\n",
    "#\n",
    "#   def __getitem__(self, idx):\n",
    "#     tok_ids = self.batch_to_ids([self.tokens[idx]])[0]\n",
    "#\n",
    "#     if tok_ids.shape[0] > self.max_len:\n",
    "#       tok_ids = tok_ids[:self.max_len,:]\n",
    "#     else:\n",
    "#       tok_ids = torch.concat((tok_ids, torch.zeros((self.max_len - tok_ids.shape[0], 50)).type_as(tok_ids)))\n",
    "#\n",
    "#     return tok_ids.to(device), self.labels[idx].to(device)\n",
    "#\n",
    "#   def __len__(self):\n",
    "#     return self.length\n",
    "#\n",
    "#\n",
    "# trainset = dataset(train_tokens, train_labels, batch_to_ids, max_len)\n",
    "# testset = dataset(test_tokens, test_labels, batch_to_ids, max_len)\n",
    "#\n",
    "# BATCH_SIZE = 7\n",
    "# trainloader = DataLoader(trainset, batch_size=BATCH_SIZE, shuffle=False)\n",
    "# testloader = DataLoader(testset, batch_size=BATCH_SIZE, shuffle=False)"
   ]
  },
  {
   "cell_type": "code",
   "execution_count": 10,
   "metadata": {
    "id": "UECEqirPD3_2"
   },
   "outputs": [],
   "source": [
    "from torch import nn\n",
    "from torch.nn import functional as F\n",
    "\n",
    "class Classifier(nn.Module):\n",
    "  def __init__(self, input_shape, elmo):\n",
    "    super(Classifier, self).__init__()\n",
    "    self.input_shape = input_shape\n",
    "    self.elmo = elmo\n",
    "    self.fc1 = nn.Linear(input_shape, 1)\n",
    "    \n",
    "  def forward(self, input):\n",
    "    embs = self.elmo(input)['elmo_representations'][0]\n",
    "    reshaped = embs.view((-1, self.input_shape))\n",
    "    x = torch.sigmoid(self.fc1(reshaped))\n",
    "    return x\n",
    "\n",
    "\n",
    "if IN_COLAB:\n",
    "  options_file = \"https://s3-us-west-2.amazonaws.com/allennlp/models/elmo/2x4096_512_2048cnn_2xhighway/elmo_2x4096_512_2048cnn_2xhighway_options.json\"\n",
    "  weight_file = \"https://s3-us-west-2.amazonaws.com/allennlp/models/elmo/2x4096_512_2048cnn_2xhighway/elmo_2x4096_512_2048cnn_2xhighway_weights.hdf5\"\n",
    "  elmo = Elmo(options_file, weight_file, dropout=0, requires_grad=False, num_output_representations=1)\n",
    "else:\n",
    "  options_file = \"options.json\"\n",
    "  weight_file = \"weights.hdf5\"\n",
    "  elmo = Elmo(options_file, weight_file, dropout=0, requires_grad=False, num_output_representations=1).to(device)\n",
    "  classifier = Classifier(1024 * max_len, elmo=elmo).to(device)"
   ]
  },
  {
   "cell_type": "code",
   "execution_count": 11,
   "outputs": [
    {
     "data": {
      "text/plain": "4"
     },
     "execution_count": 11,
     "metadata": {},
     "output_type": "execute_result"
    }
   ],
   "source": [
    "sum(p.numel() for p in classifier.elmo.parameters() if p.requires_grad)"
   ],
   "metadata": {
    "collapsed": false
   }
  },
  {
   "cell_type": "code",
   "execution_count": 12,
   "outputs": [],
   "source": [
    "learning_rate = 0.001\n",
    "epochs = 10\n",
    "l2_penalty = 0.001\n",
    "\n",
    "optimizer = torch.optim.RMSprop(classifier.parameters(), lr=learning_rate, weight_decay=l2_penalty)\n",
    "loss_fn = F.binary_cross_entropy_with_logits"
   ],
   "metadata": {
    "collapsed": false
   }
  },
  {
   "cell_type": "code",
   "execution_count": 13,
   "outputs": [
    {
     "name": "stdout",
     "output_type": "stream",
     "text": [
      "Requirement already satisfied: torchmetrics in e:\\programs\\anaconda\\envs\\pmldl\\lib\\site-packages (0.10.1)\n",
      "Requirement already satisfied: torch>=1.3.1 in e:\\programs\\anaconda\\envs\\pmldl\\lib\\site-packages (from torchmetrics) (1.12.1+cu113)\n",
      "Requirement already satisfied: numpy>=1.17.2 in e:\\programs\\anaconda\\envs\\pmldl\\lib\\site-packages (from torchmetrics) (1.23.4)\n",
      "Requirement already satisfied: packaging in e:\\programs\\anaconda\\envs\\pmldl\\lib\\site-packages (from torchmetrics) (21.3)\n",
      "Requirement already satisfied: typing-extensions in e:\\programs\\anaconda\\envs\\pmldl\\lib\\site-packages (from torch>=1.3.1->torchmetrics) (4.3.0)\n",
      "Requirement already satisfied: pyparsing!=3.0.5,>=2.0.2 in e:\\programs\\anaconda\\envs\\pmldl\\lib\\site-packages (from packaging->torchmetrics) (3.0.9)\n"
     ]
    }
   ],
   "source": [
    "!pip install torchmetrics"
   ],
   "metadata": {
    "collapsed": false
   }
  },
  {
   "cell_type": "code",
   "execution_count": 14,
   "outputs": [
    {
     "name": "stderr",
     "output_type": "stream",
     "text": [
      "100%|██████████| 72/72 [08:57<00:00,  7.46s/it]\n"
     ]
    }
   ],
   "source": [
    "import torchmetrics\n",
    "\n",
    "def eval_model(model, data, loss_fn):\n",
    "  acc_metric = torchmetrics.Accuracy().to(device)\n",
    "  prec_metric = torchmetrics.Precision().to(device)\n",
    "  rec_metric = torchmetrics.Recall().to(device)\n",
    "  f1_metric = torchmetrics.F1Score().to(device)\n",
    "  running_loss = 0\n",
    "  for x, y in tqdm(data):\n",
    "    with torch.no_grad():\n",
    "      y = y.reshape(-1, 1)\n",
    "      with torch.autocast(device_type=device, dtype=torch.float16):\n",
    "        preds = model(x)\n",
    "        loss = loss_fn(preds, y)\n",
    "\n",
    "\n",
    "      running_loss += loss.item()\n",
    "      y = y.type(torch.int8)\n",
    "      acc_metric(preds.round(), y)\n",
    "      prec_metric(preds.round(), y)\n",
    "      rec_metric(preds.round(), y)\n",
    "      f1_metric(preds.round(), y)\n",
    "\n",
    "  loss = running_loss / len(data)\n",
    "  acc = acc_metric.compute().item()\n",
    "  prec = prec_metric.compute().item()\n",
    "  rec = rec_metric.compute().item()\n",
    "  f1 = f1_metric.compute().item()\n",
    "  return loss, acc, prec, rec, f1\n",
    "\n",
    "loss, acc, prec, rec, f1 = eval_model(classifier, valloader, loss_fn)"
   ],
   "metadata": {
    "collapsed": false
   }
  },
  {
   "cell_type": "code",
   "execution_count": 15,
   "outputs": [
    {
     "name": "stdout",
     "output_type": "stream",
     "text": [
      "0.9674400877621439 tensor(0.7240, device='cuda:0') tensor(0., device='cuda:0') tensor(0., device='cuda:0') tensor(0., device='cuda:0')\n"
     ]
    }
   ],
   "source": [
    "print(loss, acc, prec, rec, f1)"
   ],
   "metadata": {
    "collapsed": false
   }
  },
  {
   "cell_type": "code",
   "execution_count": null,
   "metadata": {
    "colab": {
     "background_save": true,
     "base_uri": "https://localhost:8080/"
    },
    "id": "uLvBW73M21-c",
    "outputId": "50112418-e6ca-4d1f-b845-9465d0d87fbf"
   },
   "outputs": [],
   "source": [
    "torch.cuda.empty_cache()\n",
    "torch.autograd.set_detect_anomaly(True)\n",
    "train_losses = []\n",
    "train_accs = []\n",
    "\n",
    "best_val_loss = 1e+8\n",
    "for epoch in range(epochs):\n",
    "  running_loss, correct, total = 0, 0, 0\n",
    "  for iteration, (x_train ,y_train) in tqdm(enumerate(trainloader), total=len(trainloader)):\n",
    "    optimizer.zero_grad()\n",
    "    y_train = y_train.reshape(-1,1)\n",
    "    with torch.autocast(device_type=device, dtype=torch.float16):\n",
    "      preds = classifier(x_train)\n",
    "      loss = loss_fn(preds, y_train)\n",
    "\n",
    "    running_loss += loss.item()\n",
    "    total += y_train.shape[0]\n",
    "    correct += preds.round().eq(y_train).sum().item()\n",
    "\n",
    "    loss.backward()\n",
    "    optimizer.step()\n",
    "\n",
    "    if iteration % 50 == 0:\n",
    "      _loss = running_loss / (iteration + 1)\n",
    "      acc = correct / total\n",
    "      print(\"epoch: {}\\titeration: {}\\tloss: {}\\tthis iteration loss: {}\\taccuracy: {}\".format(epoch, iteration, _loss, loss, acc))\n",
    "\n",
    "\n",
    "  loss = running_loss / len(trainloader)\n",
    "  acc = correct / total\n",
    "  train_losses.append(loss)\n",
    "  train_accs.append(acc)\n",
    "  print(\"epoch {}\\ttrain loss : {}\\ttrain accuracy : {}\".format(epoch, loss, acc))\n",
    "\n",
    "  loss, acc, prec, rec, f1 = eval_model(classifier, valloader, loss_fn)\n",
    "  print(\"epoch: {}\\tval loss: {}\\tval acc: {}\\tval prec: {}\\tval rec: {}\\tval f1: {}\".format(epoch, loss, acc, prec, rec, f1))\n",
    "  if IN_COLAB:\n",
    "    if best_val_loss > loss:\n",
    "      torch.save(classifier, '/content/drive/MyDrive/PML&DL/Assignment2/elmo_classifier.pt')\n",
    "      best_val_loss = loss\n",
    "  else:\n",
    "    torch.save(classifier, f'classifier{epoch}.pt')"
   ]
  },
  {
   "cell_type": "code",
   "execution_count": null,
   "outputs": [],
   "source": [
    "if IN_COLAB:\n",
    "  !kill $(ps aux | awk '{print $2}')"
   ],
   "metadata": {
    "collapsed": false
   }
  }
 ],
 "metadata": {
  "colab": {
   "authorship_tag": "ABX9TyOB2v3dxdqOxH28Z1JscvbA",
   "include_colab_link": true,
   "provenance": []
  },
  "gpuClass": "standard",
  "kernelspec": {
   "display_name": "Python 3 (ipykernel)",
   "language": "python",
   "name": "python3"
  },
  "language_info": {
   "codemirror_mode": {
    "name": "ipython",
    "version": 3
   },
   "file_extension": ".py",
   "mimetype": "text/x-python",
   "name": "python",
   "nbconvert_exporter": "python",
   "pygments_lexer": "ipython3",
   "version": "3.10.6"
  }
 },
 "nbformat": 4,
 "nbformat_minor": 1
}
